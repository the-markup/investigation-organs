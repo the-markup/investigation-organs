{
 "cells": [
  {
   "cell_type": "markdown",
   "id": "0d86516b",
   "metadata": {},
   "source": [
    "## ORGANS: Transplant count comparison\n",
    "\n",
    "---\n",
    "\n",
    "### Initialize environment"
   ]
  },
  {
   "cell_type": "code",
   "execution_count": 2,
   "id": "d8da0201",
   "metadata": {},
   "outputs": [],
   "source": [
    "library(tidyverse)\n",
    "library(lubridate)"
   ]
  },
  {
   "cell_type": "code",
   "execution_count": 3,
   "id": "2e65595d",
   "metadata": {},
   "outputs": [],
   "source": [
    "root_path     <- here::here()\n",
    "data_path     <- paste0(root_path, \"/01_data\")\n",
    "analysis_path <- paste0(root_path, \"/02_analysis\")"
   ]
  },
  {
   "cell_type": "code",
   "execution_count": 4,
   "id": "8a4a518c",
   "metadata": {},
   "outputs": [],
   "source": [
    "# import necessary data\n",
    "setwd(data_path)\n",
    "\n",
    "optn <- readRDS(\"clean/optn_tx_counts_clean.rds\")\n",
    "\n",
    "transplant <- readRDS(\"clean/transplant_clean.rds\")\n",
    "\n",
    "state_code_mapping <- read.csv(\"raw/00_misc/state_code_mapping_20221022.csv\")\n",
    "\n",
    "setwd(analysis_path)"
   ]
  },
  {
   "cell_type": "markdown",
   "id": "c213c322",
   "metadata": {},
   "source": [
    "### Calculate number of transplants for each state during the different periods\n",
    "\n",
    "1. `1YR19vs1YR21` = full year of 2019 vs. full year of 2021\n",
    "2. `2YR1819vs2YR2122` = combined full years of 2018-2019 vs. full years of 2021-2022\n",
    "3. `730Dvs730D` = UNOS definitions of 730-day periods pre- and post-policy\n",
    "\n",
    "Note the UNOS 730-day definitions are actually 731-day periods, but we'll keep to be consistent."
   ]
  },
  {
   "cell_type": "code",
   "execution_count": 5,
   "id": "050400d3",
   "metadata": {},
   "outputs": [
    {
     "data": {
      "text/html": [
       "<table class=\"dataframe\">\n",
       "<caption>A tibble: 6 × 6</caption>\n",
       "<thead>\n",
       "\t<tr><th scope=col>PERIOD_TYPE</th><th scope=col>POLICY_ERA</th><th scope=col>START_DATE</th><th scope=col>END_DATE</th><th scope=col>STATE</th><th scope=col>TX</th></tr>\n",
       "\t<tr><th scope=col>&lt;chr&gt;</th><th scope=col>&lt;chr&gt;</th><th scope=col>&lt;date&gt;</th><th scope=col>&lt;date&gt;</th><th scope=col>&lt;chr&gt;</th><th scope=col>&lt;int&gt;</th></tr>\n",
       "</thead>\n",
       "<tbody>\n",
       "\t<tr><td>1YR19vs1YR21</td><td>PRE </td><td>2019-01-01</td><td>2019-12-31</td><td>AL</td><td>128</td></tr>\n",
       "\t<tr><td>1YR19vs1YR21</td><td>POST</td><td>2021-01-01</td><td>2021-12-31</td><td>AL</td><td> 72</td></tr>\n",
       "\t<tr><td>1YR19vs1YR21</td><td>PRE </td><td>2019-01-01</td><td>2019-12-31</td><td>AR</td><td> 43</td></tr>\n",
       "\t<tr><td>1YR19vs1YR21</td><td>POST</td><td>2021-01-01</td><td>2021-12-31</td><td>AR</td><td> 45</td></tr>\n",
       "\t<tr><td>1YR19vs1YR21</td><td>PRE </td><td>2019-01-01</td><td>2019-12-31</td><td>AZ</td><td>326</td></tr>\n",
       "\t<tr><td>1YR19vs1YR21</td><td>POST</td><td>2021-01-01</td><td>2021-12-31</td><td>AZ</td><td>311</td></tr>\n",
       "</tbody>\n",
       "</table>\n"
      ],
      "text/latex": [
       "A tibble: 6 × 6\n",
       "\\begin{tabular}{llllll}\n",
       " PERIOD\\_TYPE & POLICY\\_ERA & START\\_DATE & END\\_DATE & STATE & TX\\\\\n",
       " <chr> & <chr> & <date> & <date> & <chr> & <int>\\\\\n",
       "\\hline\n",
       "\t 1YR19vs1YR21 & PRE  & 2019-01-01 & 2019-12-31 & AL & 128\\\\\n",
       "\t 1YR19vs1YR21 & POST & 2021-01-01 & 2021-12-31 & AL &  72\\\\\n",
       "\t 1YR19vs1YR21 & PRE  & 2019-01-01 & 2019-12-31 & AR &  43\\\\\n",
       "\t 1YR19vs1YR21 & POST & 2021-01-01 & 2021-12-31 & AR &  45\\\\\n",
       "\t 1YR19vs1YR21 & PRE  & 2019-01-01 & 2019-12-31 & AZ & 326\\\\\n",
       "\t 1YR19vs1YR21 & POST & 2021-01-01 & 2021-12-31 & AZ & 311\\\\\n",
       "\\end{tabular}\n"
      ],
      "text/markdown": [
       "\n",
       "A tibble: 6 × 6\n",
       "\n",
       "| PERIOD_TYPE &lt;chr&gt; | POLICY_ERA &lt;chr&gt; | START_DATE &lt;date&gt; | END_DATE &lt;date&gt; | STATE &lt;chr&gt; | TX &lt;int&gt; |\n",
       "|---|---|---|---|---|---|\n",
       "| 1YR19vs1YR21 | PRE  | 2019-01-01 | 2019-12-31 | AL | 128 |\n",
       "| 1YR19vs1YR21 | POST | 2021-01-01 | 2021-12-31 | AL |  72 |\n",
       "| 1YR19vs1YR21 | PRE  | 2019-01-01 | 2019-12-31 | AR |  43 |\n",
       "| 1YR19vs1YR21 | POST | 2021-01-01 | 2021-12-31 | AR |  45 |\n",
       "| 1YR19vs1YR21 | PRE  | 2019-01-01 | 2019-12-31 | AZ | 326 |\n",
       "| 1YR19vs1YR21 | POST | 2021-01-01 | 2021-12-31 | AZ | 311 |\n",
       "\n"
      ],
      "text/plain": [
       "  PERIOD_TYPE  POLICY_ERA START_DATE END_DATE   STATE TX \n",
       "1 1YR19vs1YR21 PRE        2019-01-01 2019-12-31 AL    128\n",
       "2 1YR19vs1YR21 POST       2021-01-01 2021-12-31 AL     72\n",
       "3 1YR19vs1YR21 PRE        2019-01-01 2019-12-31 AR     43\n",
       "4 1YR19vs1YR21 POST       2021-01-01 2021-12-31 AR     45\n",
       "5 1YR19vs1YR21 PRE        2019-01-01 2019-12-31 AZ    326\n",
       "6 1YR19vs1YR21 POST       2021-01-01 2021-12-31 AZ    311"
      ]
     },
     "metadata": {},
     "output_type": "display_data"
    }
   ],
   "source": [
    "# count transplants by period/state for '19 vs. '21 (using srtr transplant data)\n",
    "txByStatePeriod.v1 <- transplant %>%\n",
    "    filter(REC_TX_DT_YEAR %in% c(2019, 2021),\n",
    "           !is.na(CAN_HOSPITAL_STATE)) %>%\n",
    "    mutate(POLICY_ERA = if_else(REC_TX_DT_YEAR == 2019, \"PRE\", \"POST\"),\n",
    "           START_DATE = as.Date(paste0(REC_TX_DT_YEAR, \"-01-01\")),\n",
    "           END_DATE = as.Date(paste0(REC_TX_DT_YEAR, \"-12-31\"))) %>%\n",
    "    count(POLICY_ERA, START_DATE, END_DATE, STATE = CAN_HOSPITAL_STATE, name = \"TX\") %>%\n",
    "    mutate(PERIOD_TYPE = \"1YR19vs1YR21\", .before = everything()) %>%\n",
    "    arrange(STATE, START_DATE)\n",
    "\n",
    "txByStatePeriod.v1 %>% head()"
   ]
  },
  {
   "cell_type": "code",
   "execution_count": 6,
   "id": "2408b30a",
   "metadata": {
    "scrolled": false
   },
   "outputs": [
    {
     "data": {
      "text/html": [
       "<table class=\"dataframe\">\n",
       "<caption>A tibble: 6 × 6</caption>\n",
       "<thead>\n",
       "\t<tr><th scope=col>PERIOD_TYPE</th><th scope=col>POLICY_ERA</th><th scope=col>START_DATE</th><th scope=col>END_DATE</th><th scope=col>STATE</th><th scope=col>TX</th></tr>\n",
       "\t<tr><th scope=col>&lt;chr&gt;</th><th scope=col>&lt;chr&gt;</th><th scope=col>&lt;date&gt;</th><th scope=col>&lt;date&gt;</th><th scope=col>&lt;chr&gt;</th><th scope=col>&lt;dbl&gt;</th></tr>\n",
       "</thead>\n",
       "<tbody>\n",
       "\t<tr><td>2YR1819vs2YR2122</td><td>PRE </td><td>2018-01-01</td><td>2019-12-31</td><td>AL</td><td>247</td></tr>\n",
       "\t<tr><td>2YR1819vs2YR2122</td><td>POST</td><td>2021-01-01</td><td>2022-12-31</td><td>AL</td><td>155</td></tr>\n",
       "\t<tr><td>2YR1819vs2YR2122</td><td>PRE </td><td>2018-01-01</td><td>2019-12-31</td><td>AR</td><td> 80</td></tr>\n",
       "\t<tr><td>2YR1819vs2YR2122</td><td>POST</td><td>2021-01-01</td><td>2022-12-31</td><td>AR</td><td> 96</td></tr>\n",
       "\t<tr><td>2YR1819vs2YR2122</td><td>PRE </td><td>2018-01-01</td><td>2019-12-31</td><td>AZ</td><td>607</td></tr>\n",
       "\t<tr><td>2YR1819vs2YR2122</td><td>POST</td><td>2021-01-01</td><td>2022-12-31</td><td>AZ</td><td>646</td></tr>\n",
       "</tbody>\n",
       "</table>\n"
      ],
      "text/latex": [
       "A tibble: 6 × 6\n",
       "\\begin{tabular}{llllll}\n",
       " PERIOD\\_TYPE & POLICY\\_ERA & START\\_DATE & END\\_DATE & STATE & TX\\\\\n",
       " <chr> & <chr> & <date> & <date> & <chr> & <dbl>\\\\\n",
       "\\hline\n",
       "\t 2YR1819vs2YR2122 & PRE  & 2018-01-01 & 2019-12-31 & AL & 247\\\\\n",
       "\t 2YR1819vs2YR2122 & POST & 2021-01-01 & 2022-12-31 & AL & 155\\\\\n",
       "\t 2YR1819vs2YR2122 & PRE  & 2018-01-01 & 2019-12-31 & AR &  80\\\\\n",
       "\t 2YR1819vs2YR2122 & POST & 2021-01-01 & 2022-12-31 & AR &  96\\\\\n",
       "\t 2YR1819vs2YR2122 & PRE  & 2018-01-01 & 2019-12-31 & AZ & 607\\\\\n",
       "\t 2YR1819vs2YR2122 & POST & 2021-01-01 & 2022-12-31 & AZ & 646\\\\\n",
       "\\end{tabular}\n"
      ],
      "text/markdown": [
       "\n",
       "A tibble: 6 × 6\n",
       "\n",
       "| PERIOD_TYPE &lt;chr&gt; | POLICY_ERA &lt;chr&gt; | START_DATE &lt;date&gt; | END_DATE &lt;date&gt; | STATE &lt;chr&gt; | TX &lt;dbl&gt; |\n",
       "|---|---|---|---|---|---|\n",
       "| 2YR1819vs2YR2122 | PRE  | 2018-01-01 | 2019-12-31 | AL | 247 |\n",
       "| 2YR1819vs2YR2122 | POST | 2021-01-01 | 2022-12-31 | AL | 155 |\n",
       "| 2YR1819vs2YR2122 | PRE  | 2018-01-01 | 2019-12-31 | AR |  80 |\n",
       "| 2YR1819vs2YR2122 | POST | 2021-01-01 | 2022-12-31 | AR |  96 |\n",
       "| 2YR1819vs2YR2122 | PRE  | 2018-01-01 | 2019-12-31 | AZ | 607 |\n",
       "| 2YR1819vs2YR2122 | POST | 2021-01-01 | 2022-12-31 | AZ | 646 |\n",
       "\n"
      ],
      "text/plain": [
       "  PERIOD_TYPE      POLICY_ERA START_DATE END_DATE   STATE TX \n",
       "1 2YR1819vs2YR2122 PRE        2018-01-01 2019-12-31 AL    247\n",
       "2 2YR1819vs2YR2122 POST       2021-01-01 2022-12-31 AL    155\n",
       "3 2YR1819vs2YR2122 PRE        2018-01-01 2019-12-31 AR     80\n",
       "4 2YR1819vs2YR2122 POST       2021-01-01 2022-12-31 AR     96\n",
       "5 2YR1819vs2YR2122 PRE        2018-01-01 2019-12-31 AZ    607\n",
       "6 2YR1819vs2YR2122 POST       2021-01-01 2022-12-31 AZ    646"
      ]
     },
     "metadata": {},
     "output_type": "display_data"
    }
   ],
   "source": [
    "# count transplants by period/state for '18 + '19 vs. '21 + '22 (using OPTN totals)\n",
    "txByStatePeriod.v2 <- optn %>%\n",
    "    filter(CENTER_STATE != \"All Center States\",\n",
    "           YEAR %in% 2018:2022, YEAR != 2020,\n",
    "           REC_AGE %in% c(\"18-34 Years\", \"35-49 Years\", \"50-64 Years\", \"65 +\", \"Unknown\")) %>%\n",
    "    left_join(state_code_mapping, by = c(\"CENTER_STATE\" = \"STATE_NAME\")) %>%\n",
    "    mutate(POLICY_ERA = if_else(YEAR %in% 2018:2019, \"PRE\", \"POST\")) %>%\n",
    "    group_by(POLICY_ERA) %>%\n",
    "    mutate(START_DATE = as.Date(paste0(min(YEAR), \"-01-01\")),\n",
    "           END_DATE = as.Date(paste0(max(YEAR), \"-12-31\"))) %>%\n",
    "    ungroup() %>%\n",
    "    count(POLICY_ERA, START_DATE, END_DATE, STATE = STATE_CODE, wt = TX, name = \"TX\") %>%\n",
    "    mutate(PERIOD_TYPE = \"2YR1819vs2YR2122\", .before = everything()) %>%\n",
    "    filter(TX > 0) %>%\n",
    "    arrange(STATE, START_DATE)\n",
    "\n",
    "txByStatePeriod.v2 %>% head()"
   ]
  },
  {
   "cell_type": "code",
   "execution_count": 7,
   "id": "c34f0130",
   "metadata": {},
   "outputs": [
    {
     "data": {
      "text/html": [
       "<table class=\"dataframe\">\n",
       "<caption>A tibble: 6 × 6</caption>\n",
       "<thead>\n",
       "\t<tr><th scope=col>PERIOD_TYPE</th><th scope=col>POLICY_ERA</th><th scope=col>START_DATE</th><th scope=col>END_DATE</th><th scope=col>STATE</th><th scope=col>TX</th></tr>\n",
       "\t<tr><th scope=col>&lt;chr&gt;</th><th scope=col>&lt;chr&gt;</th><th scope=col>&lt;date&gt;</th><th scope=col>&lt;date&gt;</th><th scope=col>&lt;chr&gt;</th><th scope=col>&lt;int&gt;</th></tr>\n",
       "</thead>\n",
       "<tbody>\n",
       "\t<tr><td>730Dvs730D</td><td>PRE </td><td>2018-02-03</td><td>2020-02-03</td><td>AL</td><td>245</td></tr>\n",
       "\t<tr><td>730Dvs730D</td><td>POST</td><td>2020-02-04</td><td>2022-02-03</td><td>AL</td><td>162</td></tr>\n",
       "\t<tr><td>730Dvs730D</td><td>PRE </td><td>2018-02-03</td><td>2020-02-03</td><td>AR</td><td> 81</td></tr>\n",
       "\t<tr><td>730Dvs730D</td><td>POST</td><td>2020-02-04</td><td>2022-02-03</td><td>AR</td><td> 77</td></tr>\n",
       "\t<tr><td>730Dvs730D</td><td>PRE </td><td>2018-02-03</td><td>2020-02-03</td><td>AZ</td><td>613</td></tr>\n",
       "\t<tr><td>730Dvs730D</td><td>POST</td><td>2020-02-04</td><td>2022-02-03</td><td>AZ</td><td>601</td></tr>\n",
       "</tbody>\n",
       "</table>\n"
      ],
      "text/latex": [
       "A tibble: 6 × 6\n",
       "\\begin{tabular}{llllll}\n",
       " PERIOD\\_TYPE & POLICY\\_ERA & START\\_DATE & END\\_DATE & STATE & TX\\\\\n",
       " <chr> & <chr> & <date> & <date> & <chr> & <int>\\\\\n",
       "\\hline\n",
       "\t 730Dvs730D & PRE  & 2018-02-03 & 2020-02-03 & AL & 245\\\\\n",
       "\t 730Dvs730D & POST & 2020-02-04 & 2022-02-03 & AL & 162\\\\\n",
       "\t 730Dvs730D & PRE  & 2018-02-03 & 2020-02-03 & AR &  81\\\\\n",
       "\t 730Dvs730D & POST & 2020-02-04 & 2022-02-03 & AR &  77\\\\\n",
       "\t 730Dvs730D & PRE  & 2018-02-03 & 2020-02-03 & AZ & 613\\\\\n",
       "\t 730Dvs730D & POST & 2020-02-04 & 2022-02-03 & AZ & 601\\\\\n",
       "\\end{tabular}\n"
      ],
      "text/markdown": [
       "\n",
       "A tibble: 6 × 6\n",
       "\n",
       "| PERIOD_TYPE &lt;chr&gt; | POLICY_ERA &lt;chr&gt; | START_DATE &lt;date&gt; | END_DATE &lt;date&gt; | STATE &lt;chr&gt; | TX &lt;int&gt; |\n",
       "|---|---|---|---|---|---|\n",
       "| 730Dvs730D | PRE  | 2018-02-03 | 2020-02-03 | AL | 245 |\n",
       "| 730Dvs730D | POST | 2020-02-04 | 2022-02-03 | AL | 162 |\n",
       "| 730Dvs730D | PRE  | 2018-02-03 | 2020-02-03 | AR |  81 |\n",
       "| 730Dvs730D | POST | 2020-02-04 | 2022-02-03 | AR |  77 |\n",
       "| 730Dvs730D | PRE  | 2018-02-03 | 2020-02-03 | AZ | 613 |\n",
       "| 730Dvs730D | POST | 2020-02-04 | 2022-02-03 | AZ | 601 |\n",
       "\n"
      ],
      "text/plain": [
       "  PERIOD_TYPE POLICY_ERA START_DATE END_DATE   STATE TX \n",
       "1 730Dvs730D  PRE        2018-02-03 2020-02-03 AL    245\n",
       "2 730Dvs730D  POST       2020-02-04 2022-02-03 AL    162\n",
       "3 730Dvs730D  PRE        2018-02-03 2020-02-03 AR     81\n",
       "4 730Dvs730D  POST       2020-02-04 2022-02-03 AR     77\n",
       "5 730Dvs730D  PRE        2018-02-03 2020-02-03 AZ    613\n",
       "6 730Dvs730D  POST       2020-02-04 2022-02-03 AZ    601"
      ]
     },
     "metadata": {},
     "output_type": "display_data"
    }
   ],
   "source": [
    "# defining pre-period (02/03/2018 - 02/03/2020) and post-period (02/04/2020 - 02/03/2022)\n",
    "# these periods are actually 731 days, but will refer to them as 730-days\n",
    "unos_periods <- list(pre  = as.Date(c(\"2018-02-03\", \"2020-02-03\")),\n",
    "                     post = as.Date(c(\"2020-02-04\", \"2022-02-03\")))\n",
    "\n",
    "# count transplants by period/sate for 730-day periods around policy shift (using transplant)\n",
    "txByStatePeriod.v3 <- transplant %>%\n",
    "    filter(between(REC_TX_DT_DATE, unos_periods$pre[1], unos_periods$post[2]),\n",
    "           !is.na(CAN_HOSPITAL_STATE)) %>%\n",
    "    mutate(POLICY_ERA = case_when(between(REC_TX_DT_DATE, unos_periods$pre[1], unos_periods$pre[2]) ~ \"PRE\",\n",
    "                                  between(REC_TX_DT_DATE, unos_periods$post[1], unos_periods$post[2]) ~ \"POST\"),\n",
    "           START_DATE = if_else(POLICY_ERA == \"PRE\", unos_periods$pre[1], unos_periods$post[1]),\n",
    "           END_DATE = if_else(POLICY_ERA == \"PRE\", unos_periods$pre[2], unos_periods$post[2])) %>%\n",
    "    count(POLICY_ERA, START_DATE, END_DATE, STATE = CAN_HOSPITAL_STATE, name = \"TX\") %>%\n",
    "    mutate(PERIOD_TYPE = \"730Dvs730D\", .before = everything()) %>%\n",
    "    arrange(STATE, START_DATE)\n",
    "\n",
    "txByStatePeriod.v3 %>% head()"
   ]
  },
  {
   "cell_type": "markdown",
   "id": "acc83cf4",
   "metadata": {},
   "source": [
    "### Combine all the different transplant counts\n",
    "\n",
    "Scaling all periods to be reflective of 1-year average transplant counts (so scaling down v2 + v3)"
   ]
  },
  {
   "cell_type": "code",
   "execution_count": 8,
   "id": "a53c8926",
   "metadata": {},
   "outputs": [
    {
     "data": {
      "text/html": [
       "<table class=\"dataframe\">\n",
       "<caption>A tibble: 6 × 6</caption>\n",
       "<thead>\n",
       "\t<tr><th scope=col>STATE</th><th scope=col>PERIOD_TYPE</th><th scope=col>PRE</th><th scope=col>POST</th><th scope=col>TX_N_CHG</th><th scope=col>TX_PCT_CHG</th></tr>\n",
       "\t<tr><th scope=col>&lt;chr&gt;</th><th scope=col>&lt;chr&gt;</th><th scope=col>&lt;dbl&gt;</th><th scope=col>&lt;dbl&gt;</th><th scope=col>&lt;dbl&gt;</th><th scope=col>&lt;dbl&gt;</th></tr>\n",
       "</thead>\n",
       "<tbody>\n",
       "\t<tr><td>AL</td><td>1YR19vs1YR21    </td><td>128.0000</td><td>72.00000</td><td>-56.000000</td><td>-0.43750000</td></tr>\n",
       "\t<tr><td>AL</td><td>2YR1819vs2YR2122</td><td>123.5000</td><td>77.50000</td><td>-46.000000</td><td>-0.37246964</td></tr>\n",
       "\t<tr><td>AL</td><td>730Dvs730D      </td><td>122.3324</td><td>80.88919</td><td>-41.443228</td><td>-0.33877551</td></tr>\n",
       "\t<tr><td>AR</td><td>1YR19vs1YR21    </td><td> 43.0000</td><td>45.00000</td><td>  2.000000</td><td> 0.04651163</td></tr>\n",
       "\t<tr><td>AR</td><td>2YR1819vs2YR2122</td><td> 40.0000</td><td>48.00000</td><td>  8.000000</td><td> 0.20000000</td></tr>\n",
       "\t<tr><td>AR</td><td>730Dvs730D      </td><td> 40.4446</td><td>38.44733</td><td> -1.997264</td><td>-0.04938272</td></tr>\n",
       "</tbody>\n",
       "</table>\n"
      ],
      "text/latex": [
       "A tibble: 6 × 6\n",
       "\\begin{tabular}{llllll}\n",
       " STATE & PERIOD\\_TYPE & PRE & POST & TX\\_N\\_CHG & TX\\_PCT\\_CHG\\\\\n",
       " <chr> & <chr> & <dbl> & <dbl> & <dbl> & <dbl>\\\\\n",
       "\\hline\n",
       "\t AL & 1YR19vs1YR21     & 128.0000 & 72.00000 & -56.000000 & -0.43750000\\\\\n",
       "\t AL & 2YR1819vs2YR2122 & 123.5000 & 77.50000 & -46.000000 & -0.37246964\\\\\n",
       "\t AL & 730Dvs730D       & 122.3324 & 80.88919 & -41.443228 & -0.33877551\\\\\n",
       "\t AR & 1YR19vs1YR21     &  43.0000 & 45.00000 &   2.000000 &  0.04651163\\\\\n",
       "\t AR & 2YR1819vs2YR2122 &  40.0000 & 48.00000 &   8.000000 &  0.20000000\\\\\n",
       "\t AR & 730Dvs730D       &  40.4446 & 38.44733 &  -1.997264 & -0.04938272\\\\\n",
       "\\end{tabular}\n"
      ],
      "text/markdown": [
       "\n",
       "A tibble: 6 × 6\n",
       "\n",
       "| STATE &lt;chr&gt; | PERIOD_TYPE &lt;chr&gt; | PRE &lt;dbl&gt; | POST &lt;dbl&gt; | TX_N_CHG &lt;dbl&gt; | TX_PCT_CHG &lt;dbl&gt; |\n",
       "|---|---|---|---|---|---|\n",
       "| AL | 1YR19vs1YR21     | 128.0000 | 72.00000 | -56.000000 | -0.43750000 |\n",
       "| AL | 2YR1819vs2YR2122 | 123.5000 | 77.50000 | -46.000000 | -0.37246964 |\n",
       "| AL | 730Dvs730D       | 122.3324 | 80.88919 | -41.443228 | -0.33877551 |\n",
       "| AR | 1YR19vs1YR21     |  43.0000 | 45.00000 |   2.000000 |  0.04651163 |\n",
       "| AR | 2YR1819vs2YR2122 |  40.0000 | 48.00000 |   8.000000 |  0.20000000 |\n",
       "| AR | 730Dvs730D       |  40.4446 | 38.44733 |  -1.997264 | -0.04938272 |\n",
       "\n"
      ],
      "text/plain": [
       "  STATE PERIOD_TYPE      PRE      POST     TX_N_CHG   TX_PCT_CHG \n",
       "1 AL    1YR19vs1YR21     128.0000 72.00000 -56.000000 -0.43750000\n",
       "2 AL    2YR1819vs2YR2122 123.5000 77.50000 -46.000000 -0.37246964\n",
       "3 AL    730Dvs730D       122.3324 80.88919 -41.443228 -0.33877551\n",
       "4 AR    1YR19vs1YR21      43.0000 45.00000   2.000000  0.04651163\n",
       "5 AR    2YR1819vs2YR2122  40.0000 48.00000   8.000000  0.20000000\n",
       "6 AR    730Dvs730D        40.4446 38.44733  -1.997264 -0.04938272"
      ]
     },
     "metadata": {},
     "output_type": "display_data"
    }
   ],
   "source": [
    "txChangeComp <- bind_rows(txByStatePeriod.v1, txByStatePeriod.v2, txByStatePeriod.v3) %>%\n",
    "    mutate(TX_AVG = TX / as.numeric(END_DATE - START_DATE + 1) * 365) %>%\n",
    "    pivot_wider(id_cols = c(\"STATE\", \"PERIOD_TYPE\"), names_from = POLICY_ERA, values_from = TX_AVG) %>%\n",
    "    mutate(TX_N_CHG = POST - PRE,\n",
    "           TX_PCT_CHG = POST / PRE - 1) %>%\n",
    "    arrange(STATE, PERIOD_TYPE)\n",
    "\n",
    "txChangeComp %>% head()"
   ]
  },
  {
   "cell_type": "code",
   "execution_count": 9,
   "id": "66264225",
   "metadata": {},
   "outputs": [
    {
     "data": {
      "text/html": [
       "<table class=\"dataframe\">\n",
       "<caption>A tibble: 6 × 7</caption>\n",
       "<thead>\n",
       "\t<tr><th scope=col>STATE</th><th scope=col>TX_N_CHG_1YR19vs1YR21</th><th scope=col>TX_N_CHG_2YR1819vs2YR2122</th><th scope=col>TX_N_CHG_730Dvs730D</th><th scope=col>TX_PCT_CHG_1YR19vs1YR21</th><th scope=col>TX_PCT_CHG_2YR1819vs2YR2122</th><th scope=col>TX_PCT_CHG_730Dvs730D</th></tr>\n",
       "\t<tr><th scope=col>&lt;chr&gt;</th><th scope=col>&lt;dbl&gt;</th><th scope=col>&lt;dbl&gt;</th><th scope=col>&lt;dbl&gt;</th><th scope=col>&lt;dbl&gt;</th><th scope=col>&lt;dbl&gt;</th><th scope=col>&lt;dbl&gt;</th></tr>\n",
       "</thead>\n",
       "<tbody>\n",
       "\t<tr><td>PA</td><td>-80</td><td>-50.0</td><td>-51.92886</td><td>-0.13675214</td><td>-0.08928571</td><td>-0.09138840</td></tr>\n",
       "\t<tr><td>LA</td><td>-65</td><td>-78.5</td><td>-64.41176</td><td>-0.27196653</td><td>-0.32304527</td><td>-0.26380368</td></tr>\n",
       "\t<tr><td>AL</td><td>-56</td><td>-46.0</td><td>-41.44323</td><td>-0.43750000</td><td>-0.37246964</td><td>-0.33877551</td></tr>\n",
       "\t<tr><td>TX</td><td>-39</td><td> 33.0</td><td> 21.47059</td><td>-0.04761905</td><td> 0.04238921</td><td> 0.02738854</td></tr>\n",
       "\t<tr><td>KS</td><td>-30</td><td>-27.5</td><td>-26.96306</td><td>-0.37500000</td><td>-0.34591195</td><td>-0.36241611</td></tr>\n",
       "\t<tr><td>NC</td><td>-25</td><td> -4.5</td><td>-18.97401</td><td>-0.10204082</td><td>-0.02031603</td><td>-0.08407080</td></tr>\n",
       "</tbody>\n",
       "</table>\n"
      ],
      "text/latex": [
       "A tibble: 6 × 7\n",
       "\\begin{tabular}{lllllll}\n",
       " STATE & TX\\_N\\_CHG\\_1YR19vs1YR21 & TX\\_N\\_CHG\\_2YR1819vs2YR2122 & TX\\_N\\_CHG\\_730Dvs730D & TX\\_PCT\\_CHG\\_1YR19vs1YR21 & TX\\_PCT\\_CHG\\_2YR1819vs2YR2122 & TX\\_PCT\\_CHG\\_730Dvs730D\\\\\n",
       " <chr> & <dbl> & <dbl> & <dbl> & <dbl> & <dbl> & <dbl>\\\\\n",
       "\\hline\n",
       "\t PA & -80 & -50.0 & -51.92886 & -0.13675214 & -0.08928571 & -0.09138840\\\\\n",
       "\t LA & -65 & -78.5 & -64.41176 & -0.27196653 & -0.32304527 & -0.26380368\\\\\n",
       "\t AL & -56 & -46.0 & -41.44323 & -0.43750000 & -0.37246964 & -0.33877551\\\\\n",
       "\t TX & -39 &  33.0 &  21.47059 & -0.04761905 &  0.04238921 &  0.02738854\\\\\n",
       "\t KS & -30 & -27.5 & -26.96306 & -0.37500000 & -0.34591195 & -0.36241611\\\\\n",
       "\t NC & -25 &  -4.5 & -18.97401 & -0.10204082 & -0.02031603 & -0.08407080\\\\\n",
       "\\end{tabular}\n"
      ],
      "text/markdown": [
       "\n",
       "A tibble: 6 × 7\n",
       "\n",
       "| STATE &lt;chr&gt; | TX_N_CHG_1YR19vs1YR21 &lt;dbl&gt; | TX_N_CHG_2YR1819vs2YR2122 &lt;dbl&gt; | TX_N_CHG_730Dvs730D &lt;dbl&gt; | TX_PCT_CHG_1YR19vs1YR21 &lt;dbl&gt; | TX_PCT_CHG_2YR1819vs2YR2122 &lt;dbl&gt; | TX_PCT_CHG_730Dvs730D &lt;dbl&gt; |\n",
       "|---|---|---|---|---|---|---|\n",
       "| PA | -80 | -50.0 | -51.92886 | -0.13675214 | -0.08928571 | -0.09138840 |\n",
       "| LA | -65 | -78.5 | -64.41176 | -0.27196653 | -0.32304527 | -0.26380368 |\n",
       "| AL | -56 | -46.0 | -41.44323 | -0.43750000 | -0.37246964 | -0.33877551 |\n",
       "| TX | -39 |  33.0 |  21.47059 | -0.04761905 |  0.04238921 |  0.02738854 |\n",
       "| KS | -30 | -27.5 | -26.96306 | -0.37500000 | -0.34591195 | -0.36241611 |\n",
       "| NC | -25 |  -4.5 | -18.97401 | -0.10204082 | -0.02031603 | -0.08407080 |\n",
       "\n"
      ],
      "text/plain": [
       "  STATE TX_N_CHG_1YR19vs1YR21 TX_N_CHG_2YR1819vs2YR2122 TX_N_CHG_730Dvs730D\n",
       "1 PA    -80                   -50.0                     -51.92886          \n",
       "2 LA    -65                   -78.5                     -64.41176          \n",
       "3 AL    -56                   -46.0                     -41.44323          \n",
       "4 TX    -39                    33.0                      21.47059          \n",
       "5 KS    -30                   -27.5                     -26.96306          \n",
       "6 NC    -25                    -4.5                     -18.97401          \n",
       "  TX_PCT_CHG_1YR19vs1YR21 TX_PCT_CHG_2YR1819vs2YR2122 TX_PCT_CHG_730Dvs730D\n",
       "1 -0.13675214             -0.08928571                 -0.09138840          \n",
       "2 -0.27196653             -0.32304527                 -0.26380368          \n",
       "3 -0.43750000             -0.37246964                 -0.33877551          \n",
       "4 -0.04761905              0.04238921                  0.02738854          \n",
       "5 -0.37500000             -0.34591195                 -0.36241611          \n",
       "6 -0.10204082             -0.02031603                 -0.08407080          "
      ]
     },
     "metadata": {},
     "output_type": "display_data"
    }
   ],
   "source": [
    "txChangeComp.wide <- txChangeComp %>%\n",
    "    pivot_wider(id_cols = STATE, names_from = PERIOD_TYPE, values_from = matches(\"TX_\")) %>%\n",
    "    arrange(TX_N_CHG_1YR19vs1YR21)\n",
    "\n",
    "write.csv(txChangeComp.wide, paste0(\"output/tables/table7-tx_change_comparison_across_periods.csv\"), row.names = F)\n",
    "\n",
    "txChangeComp.wide %>% head()"
   ]
  }
 ],
 "metadata": {
  "kernelspec": {
   "display_name": "R",
   "language": "R",
   "name": "ir"
  },
  "language_info": {
   "codemirror_mode": "r",
   "file_extension": ".r",
   "mimetype": "text/x-r-source",
   "name": "R",
   "pygments_lexer": "r",
   "version": "4.0.4"
  }
 },
 "nbformat": 4,
 "nbformat_minor": 5
}
