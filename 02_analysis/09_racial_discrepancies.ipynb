{
 "cells": [
  {
   "cell_type": "code",
   "execution_count": 2,
   "id": "96a02db3",
   "metadata": {
    "vscode": {
     "languageId": "r"
    }
   },
   "outputs": [],
   "source": [
    "library(tidyverse)"
   ]
  },
  {
   "cell_type": "code",
   "execution_count": 3,
   "id": "8c0318e8",
   "metadata": {
    "vscode": {
     "languageId": "r"
    }
   },
   "outputs": [],
   "source": [
    "root_path     <- here::here()\n",
    "data_path     <- paste0(root_path, \"/01_data\")\n",
    "analysis_path <- paste0(root_path, \"/02_analysis\")"
   ]
  },
  {
   "cell_type": "code",
   "execution_count": 4,
   "id": "ac04a3f8",
   "metadata": {
    "vscode": {
     "languageId": "r"
    }
   },
   "outputs": [],
   "source": [
    "setwd(data_path)\n",
    "\n",
    "candidate <- readRDS(\"clean/candidate_clean.rds\")\n",
    "\n",
    "transplant <- readRDS(\"clean/transplant_clean.rds\")\n",
    "\n",
    "state_code_mapping <- read.csv(\"raw/00_misc/state_code_mapping_20221022.csv\")\n",
    "\n",
    "setwd(analysis_path)\n",
    "\n",
    "deathTransplantListingRates.orig <- read.csv(\"output/tables/table2-per_capita_rates_by_race_state.csv\")"
   ]
  },
  {
   "cell_type": "markdown",
   "id": "b6372e32",
   "metadata": {},
   "source": [
    "---\n",
    "\n",
    "### Re-calculating transplants + listings counts + rates\n",
    "\n",
    "Use candidate's permanent state of residence (`CAN_PERM_STATE`) as opposed to state of hospital (since candidate's often travel)."
   ]
  },
  {
   "cell_type": "code",
   "execution_count": 5,
   "id": "1e269fd4",
   "metadata": {
    "vscode": {
     "languageId": "r"
    }
   },
   "outputs": [
    {
     "data": {
      "text/html": [
       "<table class=\"dataframe\">\n",
       "<caption>A tibble: 6 × 5</caption>\n",
       "<thead>\n",
       "\t<tr><th scope=col>STATE_CODE</th><th scope=col>YEAR</th><th scope=col>RACE</th><th scope=col>TRANSPLANTS</th><th scope=col>STATE_NAME</th></tr>\n",
       "\t<tr><th scope=col>&lt;chr&gt;</th><th scope=col>&lt;chr&gt;</th><th scope=col>&lt;chr&gt;</th><th scope=col>&lt;int&gt;</th><th scope=col>&lt;chr&gt;</th></tr>\n",
       "</thead>\n",
       "<tbody>\n",
       "\t<tr><td>AK</td><td>2018</td><td>American Indian or Alaska Native</td><td> 2</td><td>Alaska</td></tr>\n",
       "\t<tr><td>AK</td><td>2018</td><td>White                           </td><td> 2</td><td>Alaska</td></tr>\n",
       "\t<tr><td>AK</td><td>2019</td><td>Asian                           </td><td> 1</td><td>Alaska</td></tr>\n",
       "\t<tr><td>AK</td><td>2019</td><td>White                           </td><td>11</td><td>Alaska</td></tr>\n",
       "\t<tr><td>AK</td><td>2020</td><td>American Indian or Alaska Native</td><td> 2</td><td>Alaska</td></tr>\n",
       "\t<tr><td>AK</td><td>2020</td><td>Asian                           </td><td> 1</td><td>Alaska</td></tr>\n",
       "</tbody>\n",
       "</table>\n"
      ],
      "text/latex": [
       "A tibble: 6 × 5\n",
       "\\begin{tabular}{lllll}\n",
       " STATE\\_CODE & YEAR & RACE & TRANSPLANTS & STATE\\_NAME\\\\\n",
       " <chr> & <chr> & <chr> & <int> & <chr>\\\\\n",
       "\\hline\n",
       "\t AK & 2018 & American Indian or Alaska Native &  2 & Alaska\\\\\n",
       "\t AK & 2018 & White                            &  2 & Alaska\\\\\n",
       "\t AK & 2019 & Asian                            &  1 & Alaska\\\\\n",
       "\t AK & 2019 & White                            & 11 & Alaska\\\\\n",
       "\t AK & 2020 & American Indian or Alaska Native &  2 & Alaska\\\\\n",
       "\t AK & 2020 & Asian                            &  1 & Alaska\\\\\n",
       "\\end{tabular}\n"
      ],
      "text/markdown": [
       "\n",
       "A tibble: 6 × 5\n",
       "\n",
       "| STATE_CODE &lt;chr&gt; | YEAR &lt;chr&gt; | RACE &lt;chr&gt; | TRANSPLANTS &lt;int&gt; | STATE_NAME &lt;chr&gt; |\n",
       "|---|---|---|---|---|\n",
       "| AK | 2018 | American Indian or Alaska Native |  2 | Alaska |\n",
       "| AK | 2018 | White                            |  2 | Alaska |\n",
       "| AK | 2019 | Asian                            |  1 | Alaska |\n",
       "| AK | 2019 | White                            | 11 | Alaska |\n",
       "| AK | 2020 | American Indian or Alaska Native |  2 | Alaska |\n",
       "| AK | 2020 | Asian                            |  1 | Alaska |\n",
       "\n"
      ],
      "text/plain": [
       "  STATE_CODE YEAR RACE                             TRANSPLANTS STATE_NAME\n",
       "1 AK         2018 American Indian or Alaska Native  2          Alaska    \n",
       "2 AK         2018 White                             2          Alaska    \n",
       "3 AK         2019 Asian                             1          Alaska    \n",
       "4 AK         2019 White                            11          Alaska    \n",
       "5 AK         2020 American Indian or Alaska Native  2          Alaska    \n",
       "6 AK         2020 Asian                             1          Alaska    "
      ]
     },
     "metadata": {},
     "output_type": "display_data"
    }
   ],
   "source": [
    "# calculate transplant counts (by race, year, state)\n",
    "transplantCounts.StateYearRace <- transplant %>%\n",
    "  filter(REC_TX_DT_YEAR %in% 2018:2021) %>%\n",
    "  filter(!grepl(\"PR|VI|GU|NA|ZZ\", CAN_PERM_STATE_CLEAN)) %>%\n",
    "  count(STATE_CODE = CAN_PERM_STATE_CLEAN, YEAR = as.character(REC_TX_DT_YEAR), RACE = CAN_RACE_SRTR_CLEAN,\n",
    "        name = \"TRANSPLANTS\")\n",
    "\n",
    "# aggregate and stack transplantCounts at multiple agg levels (to match cdcWonder)\n",
    "transplantCounts <- bind_rows(transplantCounts.StateYearRace,\n",
    "                              transplantCounts.StateYearRace %>% # StateYear\n",
    "                                count(STATE_CODE, YEAR, RACE = \"All Races\",\n",
    "                                      wt = TRANSPLANTS, name = \"TRANSPLANTS\"),\n",
    "                              transplantCounts.StateYearRace %>% # StateRace\n",
    "                                count(STATE_CODE, YEAR = \"2018 - 2021\", RACE,\n",
    "                                      wt = TRANSPLANTS, name = \"TRANSPLANTS\"),\n",
    "                              transplantCounts.StateYearRace %>% # YearRace\n",
    "                                count(STATE_CODE = \"National\", YEAR, RACE,\n",
    "                                      wt = TRANSPLANTS, name = \"TRANSPLANTS\"),\n",
    "                              transplantCounts.StateYearRace %>% # Year\n",
    "                                count(STATE_CODE = \"National\", YEAR, RACE = \"All Races\",\n",
    "                                      wt = TRANSPLANTS, name = \"TRANSPLANTS\"),\n",
    "                              transplantCounts.StateYearRace %>% # Race\n",
    "                                count(STATE_CODE = \"National\", YEAR = \"2018 - 2021\", RACE,\n",
    "                                      wt = TRANSPLANTS, name = \"TRANSPLANTS\"),\n",
    "                              transplantCounts.StateYearRace %>% # Total\n",
    "                                count(STATE_CODE = \"National\", YEAR = \"2018 - 2021\", RACE = \"All Races\",\n",
    "                                      wt = TRANSPLANTS, name = \"TRANSPLANTS\")) %>%\n",
    "  left_join(state_code_mapping %>% select(-STATE_FIPS, -STATE_REGION), by = \"STATE_CODE\") %>%\n",
    "  mutate(STATE_NAME = if_else(is.na(STATE_NAME), STATE_CODE, STATE_NAME))\n",
    "\n",
    "transplantCounts %>% head()"
   ]
  },
  {
   "cell_type": "code",
   "execution_count": 6,
   "id": "c502a1a7",
   "metadata": {
    "vscode": {
     "languageId": "r"
    }
   },
   "outputs": [
    {
     "data": {
      "text/html": [
       "<table class=\"dataframe\">\n",
       "<caption>A tibble: 6 × 5</caption>\n",
       "<thead>\n",
       "\t<tr><th scope=col>STATE_CODE</th><th scope=col>YEAR</th><th scope=col>RACE</th><th scope=col>WAITLIST_LISTINGS</th><th scope=col>STATE_NAME</th></tr>\n",
       "\t<tr><th scope=col>&lt;chr&gt;</th><th scope=col>&lt;chr&gt;</th><th scope=col>&lt;chr&gt;</th><th scope=col>&lt;int&gt;</th><th scope=col>&lt;chr&gt;</th></tr>\n",
       "</thead>\n",
       "<tbody>\n",
       "\t<tr><td>AK</td><td>2018</td><td>American Indian or Alaska Native</td><td>2</td><td>Alaska</td></tr>\n",
       "\t<tr><td>AK</td><td>2018</td><td>Black or African American       </td><td>1</td><td>Alaska</td></tr>\n",
       "\t<tr><td>AK</td><td>2018</td><td>White                           </td><td>7</td><td>Alaska</td></tr>\n",
       "\t<tr><td>AK</td><td>2019</td><td>American Indian or Alaska Native</td><td>2</td><td>Alaska</td></tr>\n",
       "\t<tr><td>AK</td><td>2019</td><td>Asian                           </td><td>1</td><td>Alaska</td></tr>\n",
       "\t<tr><td>AK</td><td>2019</td><td>Black or African American       </td><td>1</td><td>Alaska</td></tr>\n",
       "</tbody>\n",
       "</table>\n"
      ],
      "text/latex": [
       "A tibble: 6 × 5\n",
       "\\begin{tabular}{lllll}\n",
       " STATE\\_CODE & YEAR & RACE & WAITLIST\\_LISTINGS & STATE\\_NAME\\\\\n",
       " <chr> & <chr> & <chr> & <int> & <chr>\\\\\n",
       "\\hline\n",
       "\t AK & 2018 & American Indian or Alaska Native & 2 & Alaska\\\\\n",
       "\t AK & 2018 & Black or African American        & 1 & Alaska\\\\\n",
       "\t AK & 2018 & White                            & 7 & Alaska\\\\\n",
       "\t AK & 2019 & American Indian or Alaska Native & 2 & Alaska\\\\\n",
       "\t AK & 2019 & Asian                            & 1 & Alaska\\\\\n",
       "\t AK & 2019 & Black or African American        & 1 & Alaska\\\\\n",
       "\\end{tabular}\n"
      ],
      "text/markdown": [
       "\n",
       "A tibble: 6 × 5\n",
       "\n",
       "| STATE_CODE &lt;chr&gt; | YEAR &lt;chr&gt; | RACE &lt;chr&gt; | WAITLIST_LISTINGS &lt;int&gt; | STATE_NAME &lt;chr&gt; |\n",
       "|---|---|---|---|---|\n",
       "| AK | 2018 | American Indian or Alaska Native | 2 | Alaska |\n",
       "| AK | 2018 | Black or African American        | 1 | Alaska |\n",
       "| AK | 2018 | White                            | 7 | Alaska |\n",
       "| AK | 2019 | American Indian or Alaska Native | 2 | Alaska |\n",
       "| AK | 2019 | Asian                            | 1 | Alaska |\n",
       "| AK | 2019 | Black or African American        | 1 | Alaska |\n",
       "\n"
      ],
      "text/plain": [
       "  STATE_CODE YEAR RACE                             WAITLIST_LISTINGS STATE_NAME\n",
       "1 AK         2018 American Indian or Alaska Native 2                 Alaska    \n",
       "2 AK         2018 Black or African American        1                 Alaska    \n",
       "3 AK         2018 White                            7                 Alaska    \n",
       "4 AK         2019 American Indian or Alaska Native 2                 Alaska    \n",
       "5 AK         2019 Asian                            1                 Alaska    \n",
       "6 AK         2019 Black or African American        1                 Alaska    "
      ]
     },
     "metadata": {},
     "output_type": "display_data"
    }
   ],
   "source": [
    "# calculate waitlist listing totals (by race, year, state)\n",
    "waitlistListings.StateYearRace <- candidate %>% \n",
    "  filter(CAN_LISTING_DT_YEAR %in% 2018:2021) %>%\n",
    "  filter(!grepl(\"PR|VI|GU|NA|ZZ\", CAN_PERM_STATE_CLEAN)) %>%\n",
    "  count(STATE_CODE = CAN_PERM_STATE_CLEAN, YEAR = as.character(CAN_LISTING_DT_YEAR), RACE = CAN_RACE_SRTR_CLEAN,\n",
    "        name = \"WAITLIST_LISTINGS\")\n",
    "\n",
    "# aggregate and stack waitlistListings at multiple agg levels (to match cdcWonder)\n",
    "waitlistListings <- bind_rows(waitlistListings.StateYearRace,\n",
    "                              waitlistListings.StateYearRace %>% # StateYear\n",
    "                                count(STATE_CODE, YEAR, RACE = \"All Races\",\n",
    "                                      wt = WAITLIST_LISTINGS, name = \"WAITLIST_LISTINGS\"),\n",
    "                              waitlistListings.StateYearRace %>% # StateRace\n",
    "                                count(STATE_CODE, YEAR = \"2018 - 2021\", RACE,\n",
    "                                      wt = WAITLIST_LISTINGS, name = \"WAITLIST_LISTINGS\"),\n",
    "                              waitlistListings.StateYearRace %>% # YearRace\n",
    "                                count(STATE_CODE = \"National\", YEAR, RACE,\n",
    "                                      wt = WAITLIST_LISTINGS, name = \"WAITLIST_LISTINGS\"),\n",
    "                              waitlistListings.StateYearRace %>% # Year\n",
    "                                count(STATE_CODE = \"National\", YEAR, RACE = \"All Races\",\n",
    "                                      wt = WAITLIST_LISTINGS, name = \"WAITLIST_LISTINGS\"),\n",
    "                              waitlistListings.StateYearRace %>% # Race\n",
    "                                count(STATE_CODE = \"National\", YEAR = \"2018 - 2021\", RACE,\n",
    "                                      wt = WAITLIST_LISTINGS, name = \"WAITLIST_LISTINGS\"),\n",
    "                              waitlistListings.StateYearRace %>% # Total\n",
    "                                count(STATE_CODE = \"National\", YEAR = \"2018 - 2021\", RACE = \"All Races\",\n",
    "                                      wt = WAITLIST_LISTINGS, name = \"WAITLIST_LISTINGS\")) %>%\n",
    "  left_join(state_code_mapping %>% select(-STATE_FIPS, -STATE_REGION), by = \"STATE_CODE\") %>%\n",
    "  mutate(STATE_NAME = if_else(is.na(STATE_NAME), STATE_CODE, STATE_NAME))\n",
    "\n",
    "waitlistListings %>% head()"
   ]
  },
  {
   "cell_type": "code",
   "execution_count": 7,
   "id": "c2855d67",
   "metadata": {
    "vscode": {
     "languageId": "r"
    }
   },
   "outputs": [
    {
     "data": {
      "text/html": [
       "<table class=\"dataframe\">\n",
       "<caption>A data.frame: 6 × 13</caption>\n",
       "<thead>\n",
       "\t<tr><th></th><th scope=col>STATE_NAME</th><th scope=col>YEAR</th><th scope=col>RACE</th><th scope=col>DEATHS</th><th scope=col>POPULATION</th><th scope=col>DEATH_RATE</th><th scope=col>TRANSPLANTS</th><th scope=col>TRANSPLANT_RATE</th><th scope=col>WAITLIST_LISTINGS</th><th scope=col>LISTING_RATE</th><th scope=col>LISTING_DEATH_RATIO</th><th scope=col>TRANSPLANT_DEATH_RATIO</th><th scope=col>TRANSPLANT_LISTING_RATIO</th></tr>\n",
       "\t<tr><th></th><th scope=col>&lt;chr&gt;</th><th scope=col>&lt;chr&gt;</th><th scope=col>&lt;chr&gt;</th><th scope=col>&lt;int&gt;</th><th scope=col>&lt;int&gt;</th><th scope=col>&lt;dbl&gt;</th><th scope=col>&lt;int&gt;</th><th scope=col>&lt;dbl&gt;</th><th scope=col>&lt;int&gt;</th><th scope=col>&lt;dbl&gt;</th><th scope=col>&lt;dbl&gt;</th><th scope=col>&lt;dbl&gt;</th><th scope=col>&lt;dbl&gt;</th></tr>\n",
       "</thead>\n",
       "<tbody>\n",
       "\t<tr><th scope=row>1</th><td>National</td><td>2018</td><td>All Races                                </td><td>42838</td><td>327167434</td><td>13.093601</td><td>7622</td><td>2.3296940</td><td>12331</td><td>3.7690182</td><td>0.2878519</td><td>0.17792614</td><td>0.6181169</td></tr>\n",
       "\t<tr><th scope=row>2</th><td>National</td><td>2018</td><td>American Indian or Alaska Native         </td><td> 1149</td><td>  4147521</td><td>27.703296</td><td>  75</td><td>1.8083091</td><td>  134</td><td>3.2308456</td><td>0.1166232</td><td>0.06527415</td><td>0.5597015</td></tr>\n",
       "\t<tr><th scope=row>3</th><td>National</td><td>2018</td><td>Asian                                    </td><td>  671</td><td> 19330600</td><td> 3.471180</td><td> 331</td><td>1.7123111</td><td>  583</td><td>3.0159436</td><td>0.8688525</td><td>0.49329359</td><td>0.5677530</td></tr>\n",
       "\t<tr><th scope=row>4</th><td>National</td><td>2018</td><td>Black or African American                </td><td> 3314</td><td> 43804319</td><td> 7.565464</td><td> 623</td><td>1.4222342</td><td>  916</td><td>2.0911180</td><td>0.2764031</td><td>0.18799034</td><td>0.6801310</td></tr>\n",
       "\t<tr><th scope=row>5</th><td>National</td><td>2018</td><td>More than one race                       </td><td>  305</td><td>  8946480</td><td> 3.409162</td><td>  48</td><td>0.5365239</td><td>   80</td><td>0.8942064</td><td>0.2622951</td><td>0.15737705</td><td>0.6000000</td></tr>\n",
       "\t<tr><th scope=row>6</th><td>National</td><td>2018</td><td>Native Hawaiian or Other Pacific Islander</td><td>   46</td><td>   799418</td><td> 5.754186</td><td>  15</td><td>1.8763651</td><td>   25</td><td>3.1272751</td><td>0.5434783</td><td>0.32608696</td><td>0.6000000</td></tr>\n",
       "</tbody>\n",
       "</table>\n"
      ],
      "text/latex": [
       "A data.frame: 6 × 13\n",
       "\\begin{tabular}{r|lllllllllllll}\n",
       "  & STATE\\_NAME & YEAR & RACE & DEATHS & POPULATION & DEATH\\_RATE & TRANSPLANTS & TRANSPLANT\\_RATE & WAITLIST\\_LISTINGS & LISTING\\_RATE & LISTING\\_DEATH\\_RATIO & TRANSPLANT\\_DEATH\\_RATIO & TRANSPLANT\\_LISTING\\_RATIO\\\\\n",
       "  & <chr> & <chr> & <chr> & <int> & <int> & <dbl> & <int> & <dbl> & <int> & <dbl> & <dbl> & <dbl> & <dbl>\\\\\n",
       "\\hline\n",
       "\t1 & National & 2018 & All Races                                 & 42838 & 327167434 & 13.093601 & 7622 & 2.3296940 & 12331 & 3.7690182 & 0.2878519 & 0.17792614 & 0.6181169\\\\\n",
       "\t2 & National & 2018 & American Indian or Alaska Native          &  1149 &   4147521 & 27.703296 &   75 & 1.8083091 &   134 & 3.2308456 & 0.1166232 & 0.06527415 & 0.5597015\\\\\n",
       "\t3 & National & 2018 & Asian                                     &   671 &  19330600 &  3.471180 &  331 & 1.7123111 &   583 & 3.0159436 & 0.8688525 & 0.49329359 & 0.5677530\\\\\n",
       "\t4 & National & 2018 & Black or African American                 &  3314 &  43804319 &  7.565464 &  623 & 1.4222342 &   916 & 2.0911180 & 0.2764031 & 0.18799034 & 0.6801310\\\\\n",
       "\t5 & National & 2018 & More than one race                        &   305 &   8946480 &  3.409162 &   48 & 0.5365239 &    80 & 0.8942064 & 0.2622951 & 0.15737705 & 0.6000000\\\\\n",
       "\t6 & National & 2018 & Native Hawaiian or Other Pacific Islander &    46 &    799418 &  5.754186 &   15 & 1.8763651 &    25 & 3.1272751 & 0.5434783 & 0.32608696 & 0.6000000\\\\\n",
       "\\end{tabular}\n"
      ],
      "text/markdown": [
       "\n",
       "A data.frame: 6 × 13\n",
       "\n",
       "| <!--/--> | STATE_NAME &lt;chr&gt; | YEAR &lt;chr&gt; | RACE &lt;chr&gt; | DEATHS &lt;int&gt; | POPULATION &lt;int&gt; | DEATH_RATE &lt;dbl&gt; | TRANSPLANTS &lt;int&gt; | TRANSPLANT_RATE &lt;dbl&gt; | WAITLIST_LISTINGS &lt;int&gt; | LISTING_RATE &lt;dbl&gt; | LISTING_DEATH_RATIO &lt;dbl&gt; | TRANSPLANT_DEATH_RATIO &lt;dbl&gt; | TRANSPLANT_LISTING_RATIO &lt;dbl&gt; |\n",
       "|---|---|---|---|---|---|---|---|---|---|---|---|---|---|\n",
       "| 1 | National | 2018 | All Races                                 | 42838 | 327167434 | 13.093601 | 7622 | 2.3296940 | 12331 | 3.7690182 | 0.2878519 | 0.17792614 | 0.6181169 |\n",
       "| 2 | National | 2018 | American Indian or Alaska Native          |  1149 |   4147521 | 27.703296 |   75 | 1.8083091 |   134 | 3.2308456 | 0.1166232 | 0.06527415 | 0.5597015 |\n",
       "| 3 | National | 2018 | Asian                                     |   671 |  19330600 |  3.471180 |  331 | 1.7123111 |   583 | 3.0159436 | 0.8688525 | 0.49329359 | 0.5677530 |\n",
       "| 4 | National | 2018 | Black or African American                 |  3314 |  43804319 |  7.565464 |  623 | 1.4222342 |   916 | 2.0911180 | 0.2764031 | 0.18799034 | 0.6801310 |\n",
       "| 5 | National | 2018 | More than one race                        |   305 |   8946480 |  3.409162 |   48 | 0.5365239 |    80 | 0.8942064 | 0.2622951 | 0.15737705 | 0.6000000 |\n",
       "| 6 | National | 2018 | Native Hawaiian or Other Pacific Islander |    46 |    799418 |  5.754186 |   15 | 1.8763651 |    25 | 3.1272751 | 0.5434783 | 0.32608696 | 0.6000000 |\n",
       "\n"
      ],
      "text/plain": [
       "  STATE_NAME YEAR RACE                                      DEATHS POPULATION\n",
       "1 National   2018 All Races                                 42838  327167434 \n",
       "2 National   2018 American Indian or Alaska Native           1149    4147521 \n",
       "3 National   2018 Asian                                       671   19330600 \n",
       "4 National   2018 Black or African American                  3314   43804319 \n",
       "5 National   2018 More than one race                          305    8946480 \n",
       "6 National   2018 Native Hawaiian or Other Pacific Islander    46     799418 \n",
       "  DEATH_RATE TRANSPLANTS TRANSPLANT_RATE WAITLIST_LISTINGS LISTING_RATE\n",
       "1 13.093601  7622        2.3296940       12331             3.7690182   \n",
       "2 27.703296    75        1.8083091         134             3.2308456   \n",
       "3  3.471180   331        1.7123111         583             3.0159436   \n",
       "4  7.565464   623        1.4222342         916             2.0911180   \n",
       "5  3.409162    48        0.5365239          80             0.8942064   \n",
       "6  5.754186    15        1.8763651          25             3.1272751   \n",
       "  LISTING_DEATH_RATIO TRANSPLANT_DEATH_RATIO TRANSPLANT_LISTING_RATIO\n",
       "1 0.2878519           0.17792614             0.6181169               \n",
       "2 0.1166232           0.06527415             0.5597015               \n",
       "3 0.8688525           0.49329359             0.5677530               \n",
       "4 0.2764031           0.18799034             0.6801310               \n",
       "5 0.2622951           0.15737705             0.6000000               \n",
       "6 0.5434783           0.32608696             0.6000000               "
      ]
     },
     "metadata": {},
     "output_type": "display_data"
    }
   ],
   "source": [
    "deathTransplantListingRates <- deathTransplantListingRates.orig %>%\n",
    "  select(STATE_NAME, YEAR, RACE, DEATHS, POPULATION, DEATH_RATE, TRANSPLANTS) %>%\n",
    "  select(-TRANSPLANTS) %>% \n",
    "  full_join(transplantCounts %>% select(-STATE_CODE),\n",
    "            by = c(\"STATE_NAME\", \"YEAR\", \"RACE\")) %>%\n",
    "  full_join(waitlistListings %>% select(-STATE_CODE),\n",
    "            by = c(\"STATE_NAME\", \"YEAR\", \"RACE\")) %>%\n",
    "  mutate(across(matches(\"TRANSPLANTS|WAITLIST_LISTINGS\"), replace_na, 0)) %>%\n",
    "  mutate(TRANSPLANT_RATE = TRANSPLANTS / POPULATION * 1e5, .after = TRANSPLANTS) %>%\n",
    "  mutate(LISTING_RATE = WAITLIST_LISTINGS / POPULATION * 1e5, .after = WAITLIST_LISTINGS) %>%\n",
    "  mutate(LISTING_DEATH_RATIO = WAITLIST_LISTINGS / DEATHS,\n",
    "         TRANSPLANT_DEATH_RATIO = TRANSPLANTS / DEATHS,\n",
    "         TRANSPLANT_LISTING_RATIO = TRANSPLANTS / WAITLIST_LISTINGS)\n",
    "\n",
    "deathTransplantListingRates %>% head()"
   ]
  },
  {
   "cell_type": "code",
   "execution_count": 8,
   "id": "e9cd6178",
   "metadata": {
    "vscode": {
     "languageId": "r"
    }
   },
   "outputs": [
    {
     "data": {
      "text/html": [
       "<table class=\"dataframe\">\n",
       "<caption>A tibble: 6 × 6</caption>\n",
       "<thead>\n",
       "\t<tr><th scope=col>STATE_NAME</th><th scope=col>RACE.POC</th><th scope=col>METRIC</th><th scope=col>VALUE.POC</th><th scope=col>VALUE.WHITE</th><th scope=col>DIFFERENTIAL</th></tr>\n",
       "\t<tr><th scope=col>&lt;chr&gt;</th><th scope=col>&lt;chr&gt;</th><th scope=col>&lt;chr&gt;</th><th scope=col>&lt;dbl&gt;</th><th scope=col>&lt;dbl&gt;</th><th scope=col>&lt;dbl&gt;</th></tr>\n",
       "</thead>\n",
       "<tbody>\n",
       "\t<tr><td>National</td><td>American Indian or Alaska Native</td><td>DEATH_RATE              </td><td>34.34073849</td><td>16.9103423</td><td>0.492428</td></tr>\n",
       "\t<tr><td>National</td><td>American Indian or Alaska Native</td><td>TRANSPLANT_RATE         </td><td> 2.03290553</td><td> 2.8352688</td><td>1.394688</td></tr>\n",
       "\t<tr><td>National</td><td>American Indian or Alaska Native</td><td>LISTING_RATE            </td><td> 3.16164087</td><td> 4.3670070</td><td>1.381247</td></tr>\n",
       "\t<tr><td>National</td><td>American Indian or Alaska Native</td><td>LISTING_DEATH_RATIO     </td><td> 0.09206677</td><td> 0.2582447</td><td>2.804972</td></tr>\n",
       "\t<tr><td>National</td><td>American Indian or Alaska Native</td><td>TRANSPLANT_DEATH_RATIO  </td><td> 0.05919807</td><td> 0.1676648</td><td>2.832267</td></tr>\n",
       "\t<tr><td>National</td><td>American Indian or Alaska Native</td><td>TRANSPLANT_LISTING_RATIO</td><td> 0.64299065</td><td> 0.6492476</td><td>1.009731</td></tr>\n",
       "</tbody>\n",
       "</table>\n"
      ],
      "text/latex": [
       "A tibble: 6 × 6\n",
       "\\begin{tabular}{llllll}\n",
       " STATE\\_NAME & RACE.POC & METRIC & VALUE.POC & VALUE.WHITE & DIFFERENTIAL\\\\\n",
       " <chr> & <chr> & <chr> & <dbl> & <dbl> & <dbl>\\\\\n",
       "\\hline\n",
       "\t National & American Indian or Alaska Native & DEATH\\_RATE               & 34.34073849 & 16.9103423 & 0.492428\\\\\n",
       "\t National & American Indian or Alaska Native & TRANSPLANT\\_RATE          &  2.03290553 &  2.8352688 & 1.394688\\\\\n",
       "\t National & American Indian or Alaska Native & LISTING\\_RATE             &  3.16164087 &  4.3670070 & 1.381247\\\\\n",
       "\t National & American Indian or Alaska Native & LISTING\\_DEATH\\_RATIO      &  0.09206677 &  0.2582447 & 2.804972\\\\\n",
       "\t National & American Indian or Alaska Native & TRANSPLANT\\_DEATH\\_RATIO   &  0.05919807 &  0.1676648 & 2.832267\\\\\n",
       "\t National & American Indian or Alaska Native & TRANSPLANT\\_LISTING\\_RATIO &  0.64299065 &  0.6492476 & 1.009731\\\\\n",
       "\\end{tabular}\n"
      ],
      "text/markdown": [
       "\n",
       "A tibble: 6 × 6\n",
       "\n",
       "| STATE_NAME &lt;chr&gt; | RACE.POC &lt;chr&gt; | METRIC &lt;chr&gt; | VALUE.POC &lt;dbl&gt; | VALUE.WHITE &lt;dbl&gt; | DIFFERENTIAL &lt;dbl&gt; |\n",
       "|---|---|---|---|---|---|\n",
       "| National | American Indian or Alaska Native | DEATH_RATE               | 34.34073849 | 16.9103423 | 0.492428 |\n",
       "| National | American Indian or Alaska Native | TRANSPLANT_RATE          |  2.03290553 |  2.8352688 | 1.394688 |\n",
       "| National | American Indian or Alaska Native | LISTING_RATE             |  3.16164087 |  4.3670070 | 1.381247 |\n",
       "| National | American Indian or Alaska Native | LISTING_DEATH_RATIO      |  0.09206677 |  0.2582447 | 2.804972 |\n",
       "| National | American Indian or Alaska Native | TRANSPLANT_DEATH_RATIO   |  0.05919807 |  0.1676648 | 2.832267 |\n",
       "| National | American Indian or Alaska Native | TRANSPLANT_LISTING_RATIO |  0.64299065 |  0.6492476 | 1.009731 |\n",
       "\n"
      ],
      "text/plain": [
       "  STATE_NAME RACE.POC                         METRIC                  \n",
       "1 National   American Indian or Alaska Native DEATH_RATE              \n",
       "2 National   American Indian or Alaska Native TRANSPLANT_RATE         \n",
       "3 National   American Indian or Alaska Native LISTING_RATE            \n",
       "4 National   American Indian or Alaska Native LISTING_DEATH_RATIO     \n",
       "5 National   American Indian or Alaska Native TRANSPLANT_DEATH_RATIO  \n",
       "6 National   American Indian or Alaska Native TRANSPLANT_LISTING_RATIO\n",
       "  VALUE.POC   VALUE.WHITE DIFFERENTIAL\n",
       "1 34.34073849 16.9103423  0.492428    \n",
       "2  2.03290553  2.8352688  1.394688    \n",
       "3  3.16164087  4.3670070  1.381247    \n",
       "4  0.09206677  0.2582447  2.804972    \n",
       "5  0.05919807  0.1676648  2.832267    \n",
       "6  0.64299065  0.6492476  1.009731    "
      ]
     },
     "metadata": {},
     "output_type": "display_data"
    }
   ],
   "source": [
    "# calculate rate differentials across race (i.e., difference between White and non-White)\n",
    "rateDifferentialsByState <- deathTransplantListingRates %>%\n",
    "  filter(YEAR == \"2018 - 2021\", RACE != \"All Races\") %>%\n",
    "  filter(!is.na(DEATHS), TRANSPLANTS > 0) %>%\n",
    "  select(STATE_NAME, RACE, matches(\"RATE|RATIO\")) %>%\n",
    "  pivot_longer(where(is.numeric), names_to = \"METRIC\", values_to = \"VALUE\") %>%\n",
    "  left_join(x = filter(., RACE != \"White\"),\n",
    "            y = filter(., RACE == \"White\"),\n",
    "            by = c(\"STATE_NAME\", \"METRIC\"), suffix = c(\".POC\", \".WHITE\")) %>%\n",
    "  select(-RACE.WHITE) %>%\n",
    "  mutate(DIFFERENTIAL = VALUE.WHITE / VALUE.POC)\n",
    "\n",
    "rateDifferentialsByState %>% head()"
   ]
  },
  {
   "cell_type": "markdown",
   "id": "551be8e3",
   "metadata": {},
   "source": [
    "---\n",
    "\n",
    "### In-story data"
   ]
  },
  {
   "cell_type": "markdown",
   "id": "b16882e1",
   "metadata": {},
   "source": [
    "> \"Native Americans are far less likely than other racial groups to gain a spot on the national liver transplant list, despite having the highest rate of death from liver disease, according to an analysis of four years of transplant data by the Markup and The Washington Post.\"\n",
    "\n",
    "American Indians and Alaska Natives have a death rate of 34.3 ESLD deaths per 100K people from 2018 - 2021, more than double that of White people (16.9 deaths per 100K) and the highest among all racial groups."
   ]
  },
  {
   "cell_type": "code",
   "execution_count": 9,
   "id": "65c4e51d",
   "metadata": {
    "vscode": {
     "languageId": "r"
    }
   },
   "outputs": [
    {
     "data": {
      "text/html": [
       "<table class=\"dataframe\">\n",
       "<caption>A data.frame: 7 × 6</caption>\n",
       "<thead>\n",
       "\t<tr><th scope=col>STATE_NAME</th><th scope=col>YEAR</th><th scope=col>RACE</th><th scope=col>DEATHS</th><th scope=col>POPULATION</th><th scope=col>DEATH_RATE</th></tr>\n",
       "\t<tr><th scope=col>&lt;chr&gt;</th><th scope=col>&lt;chr&gt;</th><th scope=col>&lt;chr&gt;</th><th scope=col>&lt;int&gt;</th><th scope=col>&lt;int&gt;</th><th scope=col>&lt;dbl&gt;</th></tr>\n",
       "</thead>\n",
       "<tbody>\n",
       "\t<tr><td>National</td><td>2018 - 2021</td><td>American Indian or Alaska Native         </td><td>  5811</td><td>  16921593</td><td>34.340738</td></tr>\n",
       "\t<tr><td>National</td><td>2018 - 2021</td><td>White                                    </td><td>169320</td><td>1001280734</td><td>16.910342</td></tr>\n",
       "\t<tr><td>National</td><td>2018 - 2021</td><td>All Races                                </td><td>195423</td><td>1314375203</td><td>14.868129</td></tr>\n",
       "\t<tr><td>National</td><td>2018 - 2021</td><td>Black or African American                </td><td> 15541</td><td> 176941629</td><td> 8.783122</td></tr>\n",
       "\t<tr><td>National</td><td>2018 - 2021</td><td>Native Hawaiian or Other Pacific Islander</td><td>   193</td><td>   3293741</td><td> 5.859599</td></tr>\n",
       "\t<tr><td>National</td><td>2018 - 2021</td><td>Asian                                    </td><td>  3142</td><td>  78860018</td><td> 3.984275</td></tr>\n",
       "\t<tr><td>National</td><td>2018 - 2021</td><td>More than one race                       </td><td>  1416</td><td>  37077488</td><td> 3.819029</td></tr>\n",
       "</tbody>\n",
       "</table>\n"
      ],
      "text/latex": [
       "A data.frame: 7 × 6\n",
       "\\begin{tabular}{llllll}\n",
       " STATE\\_NAME & YEAR & RACE & DEATHS & POPULATION & DEATH\\_RATE\\\\\n",
       " <chr> & <chr> & <chr> & <int> & <int> & <dbl>\\\\\n",
       "\\hline\n",
       "\t National & 2018 - 2021 & American Indian or Alaska Native          &   5811 &   16921593 & 34.340738\\\\\n",
       "\t National & 2018 - 2021 & White                                     & 169320 & 1001280734 & 16.910342\\\\\n",
       "\t National & 2018 - 2021 & All Races                                 & 195423 & 1314375203 & 14.868129\\\\\n",
       "\t National & 2018 - 2021 & Black or African American                 &  15541 &  176941629 &  8.783122\\\\\n",
       "\t National & 2018 - 2021 & Native Hawaiian or Other Pacific Islander &    193 &    3293741 &  5.859599\\\\\n",
       "\t National & 2018 - 2021 & Asian                                     &   3142 &   78860018 &  3.984275\\\\\n",
       "\t National & 2018 - 2021 & More than one race                        &   1416 &   37077488 &  3.819029\\\\\n",
       "\\end{tabular}\n"
      ],
      "text/markdown": [
       "\n",
       "A data.frame: 7 × 6\n",
       "\n",
       "| STATE_NAME &lt;chr&gt; | YEAR &lt;chr&gt; | RACE &lt;chr&gt; | DEATHS &lt;int&gt; | POPULATION &lt;int&gt; | DEATH_RATE &lt;dbl&gt; |\n",
       "|---|---|---|---|---|---|\n",
       "| National | 2018 - 2021 | American Indian or Alaska Native          |   5811 |   16921593 | 34.340738 |\n",
       "| National | 2018 - 2021 | White                                     | 169320 | 1001280734 | 16.910342 |\n",
       "| National | 2018 - 2021 | All Races                                 | 195423 | 1314375203 | 14.868129 |\n",
       "| National | 2018 - 2021 | Black or African American                 |  15541 |  176941629 |  8.783122 |\n",
       "| National | 2018 - 2021 | Native Hawaiian or Other Pacific Islander |    193 |    3293741 |  5.859599 |\n",
       "| National | 2018 - 2021 | Asian                                     |   3142 |   78860018 |  3.984275 |\n",
       "| National | 2018 - 2021 | More than one race                        |   1416 |   37077488 |  3.819029 |\n",
       "\n"
      ],
      "text/plain": [
       "  STATE_NAME YEAR        RACE                                      DEATHS\n",
       "1 National   2018 - 2021 American Indian or Alaska Native            5811\n",
       "2 National   2018 - 2021 White                                     169320\n",
       "3 National   2018 - 2021 All Races                                 195423\n",
       "4 National   2018 - 2021 Black or African American                  15541\n",
       "5 National   2018 - 2021 Native Hawaiian or Other Pacific Islander    193\n",
       "6 National   2018 - 2021 Asian                                       3142\n",
       "7 National   2018 - 2021 More than one race                          1416\n",
       "  POPULATION DEATH_RATE\n",
       "1   16921593 34.340738 \n",
       "2 1001280734 16.910342 \n",
       "3 1314375203 14.868129 \n",
       "4  176941629  8.783122 \n",
       "5    3293741  5.859599 \n",
       "6   78860018  3.984275 \n",
       "7   37077488  3.819029 "
      ]
     },
     "metadata": {},
     "output_type": "display_data"
    }
   ],
   "source": [
    "deathTransplantListingRates %>%\n",
    "    filter(STATE_NAME == \"National\",\n",
    "           YEAR == \"2018 - 2021\") %>%\n",
    "    select(STATE_NAME, YEAR, RACE, DEATHS, POPULATION, DEATH_RATE) %>%\n",
    "    arrange(-DEATH_RATE)"
   ]
  },
  {
   "cell_type": "markdown",
   "id": "3a1d0742",
   "metadata": {},
   "source": [
    "> \"Compared to their total number of deaths from liver disease, White people gain a spot on the transplant list almost three times more often than Native Americans, the data shows.\"\n",
    "\n",
    "The ratio of waitlistings-to-deaths for White people nationally from 2018 - 2021 was 0.258 listings per death. For Native people, it was 0.092 listings per death, which indicates a differential of 2.805x higher for White people, or **180.5% higher**."
   ]
  },
  {
   "cell_type": "code",
   "execution_count": 10,
   "id": "26183304",
   "metadata": {},
   "outputs": [
    {
     "data": {
      "text/html": [
       "<table class=\"dataframe\">\n",
       "<caption>A tibble: 1 × 6</caption>\n",
       "<thead>\n",
       "\t<tr><th scope=col>STATE_NAME</th><th scope=col>RACE.POC</th><th scope=col>METRIC</th><th scope=col>VALUE.POC</th><th scope=col>VALUE.WHITE</th><th scope=col>DIFFERENTIAL</th></tr>\n",
       "\t<tr><th scope=col>&lt;chr&gt;</th><th scope=col>&lt;chr&gt;</th><th scope=col>&lt;chr&gt;</th><th scope=col>&lt;dbl&gt;</th><th scope=col>&lt;dbl&gt;</th><th scope=col>&lt;dbl&gt;</th></tr>\n",
       "</thead>\n",
       "<tbody>\n",
       "\t<tr><td>National</td><td>American Indian or Alaska Native</td><td>LISTING_DEATH_RATIO</td><td>0.09206677</td><td>0.2582447</td><td>2.804972</td></tr>\n",
       "</tbody>\n",
       "</table>\n"
      ],
      "text/latex": [
       "A tibble: 1 × 6\n",
       "\\begin{tabular}{llllll}\n",
       " STATE\\_NAME & RACE.POC & METRIC & VALUE.POC & VALUE.WHITE & DIFFERENTIAL\\\\\n",
       " <chr> & <chr> & <chr> & <dbl> & <dbl> & <dbl>\\\\\n",
       "\\hline\n",
       "\t National & American Indian or Alaska Native & LISTING\\_DEATH\\_RATIO & 0.09206677 & 0.2582447 & 2.804972\\\\\n",
       "\\end{tabular}\n"
      ],
      "text/markdown": [
       "\n",
       "A tibble: 1 × 6\n",
       "\n",
       "| STATE_NAME &lt;chr&gt; | RACE.POC &lt;chr&gt; | METRIC &lt;chr&gt; | VALUE.POC &lt;dbl&gt; | VALUE.WHITE &lt;dbl&gt; | DIFFERENTIAL &lt;dbl&gt; |\n",
       "|---|---|---|---|---|---|\n",
       "| National | American Indian or Alaska Native | LISTING_DEATH_RATIO | 0.09206677 | 0.2582447 | 2.804972 |\n",
       "\n"
      ],
      "text/plain": [
       "  STATE_NAME RACE.POC                         METRIC              VALUE.POC \n",
       "1 National   American Indian or Alaska Native LISTING_DEATH_RATIO 0.09206677\n",
       "  VALUE.WHITE DIFFERENTIAL\n",
       "1 0.2582447   2.804972    "
      ]
     },
     "metadata": {},
     "output_type": "display_data"
    }
   ],
   "source": [
    "rateDifferentialsByState %>% \n",
    "    filter(STATE_NAME == \"National\",\n",
    "           METRIC == \"LISTING_DEATH_RATIO\",\n",
    "           grepl(\"American Indian\", RACE.POC))"
   ]
  },
  {
   "cell_type": "markdown",
   "id": "948eb37b",
   "metadata": {},
   "source": [
    "> \"Had transplant rates been equal, nearly 1,000 additional Native people would have received liver transplants between 2018 and 2021.\"\n",
    "\n",
    "The national average of Listing-Death Ratio is 0.258 and 5,811 Indigenous people died from ESLD from 2018 - 2021. If Indigenous people had a listing-death ratio comparable to the national average (0.258 vs. 0.092), this would estimate that approximately 1,498 Indigenous people should have been listed, as compared to the 535 that were. This differential (approximately **963 people**) would have recieved transplants if all things equal."
   ]
  },
  {
   "cell_type": "code",
   "execution_count": 11,
   "id": "22983e75",
   "metadata": {
    "vscode": {
     "languageId": "r"
    }
   },
   "outputs": [
    {
     "data": {
      "text/html": [
       "<table class=\"dataframe\">\n",
       "<caption>A data.frame: 2 × 6</caption>\n",
       "<thead>\n",
       "\t<tr><th scope=col>STATE_NAME</th><th scope=col>YEAR</th><th scope=col>RACE</th><th scope=col>DEATHS</th><th scope=col>WAITLIST_LISTINGS</th><th scope=col>LISTING_DEATH_RATIO</th></tr>\n",
       "\t<tr><th scope=col>&lt;chr&gt;</th><th scope=col>&lt;chr&gt;</th><th scope=col>&lt;chr&gt;</th><th scope=col>&lt;int&gt;</th><th scope=col>&lt;int&gt;</th><th scope=col>&lt;dbl&gt;</th></tr>\n",
       "</thead>\n",
       "<tbody>\n",
       "\t<tr><td>National</td><td>2018 - 2021</td><td>American Indian or Alaska Native</td><td>  5811</td><td>  535</td><td>0.09206677</td></tr>\n",
       "\t<tr><td>National</td><td>2018 - 2021</td><td>All Races                       </td><td>195423</td><td>50381</td><td>0.25780486</td></tr>\n",
       "</tbody>\n",
       "</table>\n"
      ],
      "text/latex": [
       "A data.frame: 2 × 6\n",
       "\\begin{tabular}{llllll}\n",
       " STATE\\_NAME & YEAR & RACE & DEATHS & WAITLIST\\_LISTINGS & LISTING\\_DEATH\\_RATIO\\\\\n",
       " <chr> & <chr> & <chr> & <int> & <int> & <dbl>\\\\\n",
       "\\hline\n",
       "\t National & 2018 - 2021 & American Indian or Alaska Native &   5811 &   535 & 0.09206677\\\\\n",
       "\t National & 2018 - 2021 & All Races                        & 195423 & 50381 & 0.25780486\\\\\n",
       "\\end{tabular}\n"
      ],
      "text/markdown": [
       "\n",
       "A data.frame: 2 × 6\n",
       "\n",
       "| STATE_NAME &lt;chr&gt; | YEAR &lt;chr&gt; | RACE &lt;chr&gt; | DEATHS &lt;int&gt; | WAITLIST_LISTINGS &lt;int&gt; | LISTING_DEATH_RATIO &lt;dbl&gt; |\n",
       "|---|---|---|---|---|---|\n",
       "| National | 2018 - 2021 | American Indian or Alaska Native |   5811 |   535 | 0.09206677 |\n",
       "| National | 2018 - 2021 | All Races                        | 195423 | 50381 | 0.25780486 |\n",
       "\n"
      ],
      "text/plain": [
       "  STATE_NAME YEAR        RACE                             DEATHS\n",
       "1 National   2018 - 2021 American Indian or Alaska Native   5811\n",
       "2 National   2018 - 2021 All Races                        195423\n",
       "  WAITLIST_LISTINGS LISTING_DEATH_RATIO\n",
       "1   535             0.09206677         \n",
       "2 50381             0.25780486         "
      ]
     },
     "metadata": {},
     "output_type": "display_data"
    }
   ],
   "source": [
    "deathTransplantListingRates %>%\n",
    "    filter(STATE_NAME == \"National\",\n",
    "           YEAR == \"2018 - 2021\",\n",
    "           RACE %in% c(\"American Indian or Alaska Native\", \"All Races\")) %>%\n",
    "    arrange(LISTING_DEATH_RATIO) %>%\n",
    "    select(STATE_NAME, YEAR, RACE, DEATHS, WAITLIST_LISTINGS, LISTING_DEATH_RATIO)"
   ]
  },
  {
   "cell_type": "code",
   "execution_count": 12,
   "id": "11cc97e4",
   "metadata": {
    "vscode": {
     "languageId": "r"
    }
   },
   "outputs": [
    {
     "data": {
      "text/html": [
       "963.10404146"
      ],
      "text/latex": [
       "963.10404146"
      ],
      "text/markdown": [
       "963.10404146"
      ],
      "text/plain": [
       "[1] 963.104"
      ]
     },
     "metadata": {},
     "output_type": "display_data"
    }
   ],
   "source": [
    "(5811 * 0.25780486) - 535"
   ]
  },
  {
   "cell_type": "markdown",
   "id": "de7dce1a",
   "metadata": {},
   "source": [
    "> \"Native Americans who do win a spot on the list advance to surgery at about the same rate as White people, showing that front-end access is a primary driver of disparity.\"\n",
    "\n",
    "When adjusting the number of transplants relative to the number of people added to the transplant waitlist, roughly equivalent numbers of White and Native American people receive transplants. For every 100 White people added to the waitlist, 64.9 people receive transplants. For every 100 Native American people, 64.3 people receive transplants."
   ]
  },
  {
   "cell_type": "code",
   "execution_count": 13,
   "id": "429be238",
   "metadata": {},
   "outputs": [
    {
     "data": {
      "text/html": [
       "<table class=\"dataframe\">\n",
       "<caption>A tibble: 1 × 6</caption>\n",
       "<thead>\n",
       "\t<tr><th scope=col>STATE_NAME</th><th scope=col>RACE.POC</th><th scope=col>METRIC</th><th scope=col>VALUE.POC</th><th scope=col>VALUE.WHITE</th><th scope=col>DIFFERENTIAL</th></tr>\n",
       "\t<tr><th scope=col>&lt;chr&gt;</th><th scope=col>&lt;chr&gt;</th><th scope=col>&lt;chr&gt;</th><th scope=col>&lt;dbl&gt;</th><th scope=col>&lt;dbl&gt;</th><th scope=col>&lt;dbl&gt;</th></tr>\n",
       "</thead>\n",
       "<tbody>\n",
       "\t<tr><td>National</td><td>American Indian or Alaska Native</td><td>TRANSPLANT_LISTING_RATIO</td><td>0.6429907</td><td>0.6492476</td><td>1.009731</td></tr>\n",
       "</tbody>\n",
       "</table>\n"
      ],
      "text/latex": [
       "A tibble: 1 × 6\n",
       "\\begin{tabular}{llllll}\n",
       " STATE\\_NAME & RACE.POC & METRIC & VALUE.POC & VALUE.WHITE & DIFFERENTIAL\\\\\n",
       " <chr> & <chr> & <chr> & <dbl> & <dbl> & <dbl>\\\\\n",
       "\\hline\n",
       "\t National & American Indian or Alaska Native & TRANSPLANT\\_LISTING\\_RATIO & 0.6429907 & 0.6492476 & 1.009731\\\\\n",
       "\\end{tabular}\n"
      ],
      "text/markdown": [
       "\n",
       "A tibble: 1 × 6\n",
       "\n",
       "| STATE_NAME &lt;chr&gt; | RACE.POC &lt;chr&gt; | METRIC &lt;chr&gt; | VALUE.POC &lt;dbl&gt; | VALUE.WHITE &lt;dbl&gt; | DIFFERENTIAL &lt;dbl&gt; |\n",
       "|---|---|---|---|---|---|\n",
       "| National | American Indian or Alaska Native | TRANSPLANT_LISTING_RATIO | 0.6429907 | 0.6492476 | 1.009731 |\n",
       "\n"
      ],
      "text/plain": [
       "  STATE_NAME RACE.POC                         METRIC                  \n",
       "1 National   American Indian or Alaska Native TRANSPLANT_LISTING_RATIO\n",
       "  VALUE.POC VALUE.WHITE DIFFERENTIAL\n",
       "1 0.6429907 0.6492476   1.009731    "
      ]
     },
     "metadata": {},
     "output_type": "display_data"
    }
   ],
   "source": [
    "rateDifferentialsByState %>% \n",
    "    filter(STATE_NAME == \"National\",\n",
    "           METRIC == \"TRANSPLANT_LISTING_RATIO\",\n",
    "           grepl(\"American Indian\", RACE.POC))"
   ]
  },
  {
   "cell_type": "markdown",
   "id": "2acd322b",
   "metadata": {},
   "source": [
    "> \"Among other racial groups, the liver transplant acceptance rate for Black people is slightly lower than for White patients nationally, while Asian Americans have the highest rate of acceptance to the transplant wait list by far.\"\n",
    "\n",
    "> \"For every 100 Asian people who died of liver disease, approximately 68 patients were accepted for transplant from 2018 to 2021. Among White people, 26 patients were accepted; among Black people, it was 23.\"\n",
    "\n",
    "> \"Among Indigenous people, just nine patients were accepted for transplant in that period for every 100 people who died of liver disease.\"\n",
    "\n",
    "The listing-to-death ratio for Asian patients is 0.681, indicating that for every 100 Asian people that die of liver disease, **68.1 Asian people are listed for transplant**. See table below for comparable rates for other races."
   ]
  },
  {
   "cell_type": "code",
   "execution_count": 14,
   "id": "f20779dd",
   "metadata": {
    "vscode": {
     "languageId": "r"
    }
   },
   "outputs": [
    {
     "data": {
      "text/html": [
       "<table class=\"dataframe\">\n",
       "<caption>A data.frame: 4 × 6</caption>\n",
       "<thead>\n",
       "\t<tr><th scope=col>STATE_NAME</th><th scope=col>YEAR</th><th scope=col>RACE</th><th scope=col>DEATHS</th><th scope=col>WAITLIST_LISTINGS</th><th scope=col>LISTING_DEATH_RATIO</th></tr>\n",
       "\t<tr><th scope=col>&lt;chr&gt;</th><th scope=col>&lt;chr&gt;</th><th scope=col>&lt;chr&gt;</th><th scope=col>&lt;int&gt;</th><th scope=col>&lt;int&gt;</th><th scope=col>&lt;dbl&gt;</th></tr>\n",
       "</thead>\n",
       "<tbody>\n",
       "\t<tr><td>National</td><td>2018 - 2021</td><td>Asian                           </td><td>  3142</td><td> 2139</td><td>0.68077658</td></tr>\n",
       "\t<tr><td>National</td><td>2018 - 2021</td><td>White                           </td><td>169320</td><td>43726</td><td>0.25824474</td></tr>\n",
       "\t<tr><td>National</td><td>2018 - 2021</td><td>Black or African American       </td><td> 15541</td><td> 3577</td><td>0.23016537</td></tr>\n",
       "\t<tr><td>National</td><td>2018 - 2021</td><td>American Indian or Alaska Native</td><td>  5811</td><td>  535</td><td>0.09206677</td></tr>\n",
       "</tbody>\n",
       "</table>\n"
      ],
      "text/latex": [
       "A data.frame: 4 × 6\n",
       "\\begin{tabular}{llllll}\n",
       " STATE\\_NAME & YEAR & RACE & DEATHS & WAITLIST\\_LISTINGS & LISTING\\_DEATH\\_RATIO\\\\\n",
       " <chr> & <chr> & <chr> & <int> & <int> & <dbl>\\\\\n",
       "\\hline\n",
       "\t National & 2018 - 2021 & Asian                            &   3142 &  2139 & 0.68077658\\\\\n",
       "\t National & 2018 - 2021 & White                            & 169320 & 43726 & 0.25824474\\\\\n",
       "\t National & 2018 - 2021 & Black or African American        &  15541 &  3577 & 0.23016537\\\\\n",
       "\t National & 2018 - 2021 & American Indian or Alaska Native &   5811 &   535 & 0.09206677\\\\\n",
       "\\end{tabular}\n"
      ],
      "text/markdown": [
       "\n",
       "A data.frame: 4 × 6\n",
       "\n",
       "| STATE_NAME &lt;chr&gt; | YEAR &lt;chr&gt; | RACE &lt;chr&gt; | DEATHS &lt;int&gt; | WAITLIST_LISTINGS &lt;int&gt; | LISTING_DEATH_RATIO &lt;dbl&gt; |\n",
       "|---|---|---|---|---|---|\n",
       "| National | 2018 - 2021 | Asian                            |   3142 |  2139 | 0.68077658 |\n",
       "| National | 2018 - 2021 | White                            | 169320 | 43726 | 0.25824474 |\n",
       "| National | 2018 - 2021 | Black or African American        |  15541 |  3577 | 0.23016537 |\n",
       "| National | 2018 - 2021 | American Indian or Alaska Native |   5811 |   535 | 0.09206677 |\n",
       "\n"
      ],
      "text/plain": [
       "  STATE_NAME YEAR        RACE                             DEATHS\n",
       "1 National   2018 - 2021 Asian                              3142\n",
       "2 National   2018 - 2021 White                            169320\n",
       "3 National   2018 - 2021 Black or African American         15541\n",
       "4 National   2018 - 2021 American Indian or Alaska Native   5811\n",
       "  WAITLIST_LISTINGS LISTING_DEATH_RATIO\n",
       "1  2139             0.68077658         \n",
       "2 43726             0.25824474         \n",
       "3  3577             0.23016537         \n",
       "4   535             0.09206677         "
      ]
     },
     "metadata": {},
     "output_type": "display_data"
    }
   ],
   "source": [
    "deathTransplantListingRates %>%\n",
    "    filter(STATE_NAME == \"National\",\n",
    "           YEAR == \"2018 - 2021\",\n",
    "           RACE %in% c(\"Asian\", \"White\", \"Black or African American\", \"American Indian or Alaska Native\")) %>%\n",
    "    select(STATE_NAME, YEAR, RACE, DEATHS, WAITLIST_LISTINGS, LISTING_DEATH_RATIO) %>%\n",
    "    arrange(-LISTING_DEATH_RATIO)"
   ]
  },
  {
   "cell_type": "markdown",
   "id": "79bbc5ff",
   "metadata": {},
   "source": [
    "> \"[Liver disease] is the second leading cause of death among Indigenous men ages 35 to 44.\"\n",
    "\n",
    "See [CDC Wonder Data](https://wonder.cdc.gov/controller/saved/D158/D358F404). "
   ]
  },
  {
   "cell_type": "markdown",
   "id": "77575f89",
   "metadata": {},
   "source": [
    "> \"In D.C. and Arkansas, for example, White people were twice as likely as Black people to be added to the liver transplant list when compared to their rates of death from liver disease.\"\n",
    "\n",
    "In Arkansas, the listing-death ratio is 0.091 for Black patients and 0.181 for White patients, indicating **White patients are listed 99.2% more (double) than Black patients**, assuming comparable numbers of deaths. The differential is comparable in Washington, D.C."
   ]
  },
  {
   "cell_type": "code",
   "execution_count": 15,
   "id": "ccc6c5f3",
   "metadata": {
    "vscode": {
     "languageId": "r"
    }
   },
   "outputs": [
    {
     "data": {
      "text/html": [
       "<table class=\"dataframe\">\n",
       "<caption>A tibble: 2 × 6</caption>\n",
       "<thead>\n",
       "\t<tr><th scope=col>STATE_NAME</th><th scope=col>RACE.POC</th><th scope=col>METRIC</th><th scope=col>VALUE.POC</th><th scope=col>VALUE.WHITE</th><th scope=col>DIFFERENTIAL</th></tr>\n",
       "\t<tr><th scope=col>&lt;chr&gt;</th><th scope=col>&lt;chr&gt;</th><th scope=col>&lt;chr&gt;</th><th scope=col>&lt;dbl&gt;</th><th scope=col>&lt;dbl&gt;</th><th scope=col>&lt;dbl&gt;</th></tr>\n",
       "</thead>\n",
       "<tbody>\n",
       "\t<tr><td>Arkansas            </td><td>Black or African American</td><td>LISTING_DEATH_RATIO</td><td>0.09090909</td><td>0.1811790</td><td>1.992969</td></tr>\n",
       "\t<tr><td>District of Columbia</td><td>Black or African American</td><td>LISTING_DEATH_RATIO</td><td>0.32386364</td><td>0.6470588</td><td>1.997936</td></tr>\n",
       "</tbody>\n",
       "</table>\n"
      ],
      "text/latex": [
       "A tibble: 2 × 6\n",
       "\\begin{tabular}{llllll}\n",
       " STATE\\_NAME & RACE.POC & METRIC & VALUE.POC & VALUE.WHITE & DIFFERENTIAL\\\\\n",
       " <chr> & <chr> & <chr> & <dbl> & <dbl> & <dbl>\\\\\n",
       "\\hline\n",
       "\t Arkansas             & Black or African American & LISTING\\_DEATH\\_RATIO & 0.09090909 & 0.1811790 & 1.992969\\\\\n",
       "\t District of Columbia & Black or African American & LISTING\\_DEATH\\_RATIO & 0.32386364 & 0.6470588 & 1.997936\\\\\n",
       "\\end{tabular}\n"
      ],
      "text/markdown": [
       "\n",
       "A tibble: 2 × 6\n",
       "\n",
       "| STATE_NAME &lt;chr&gt; | RACE.POC &lt;chr&gt; | METRIC &lt;chr&gt; | VALUE.POC &lt;dbl&gt; | VALUE.WHITE &lt;dbl&gt; | DIFFERENTIAL &lt;dbl&gt; |\n",
       "|---|---|---|---|---|---|\n",
       "| Arkansas             | Black or African American | LISTING_DEATH_RATIO | 0.09090909 | 0.1811790 | 1.992969 |\n",
       "| District of Columbia | Black or African American | LISTING_DEATH_RATIO | 0.32386364 | 0.6470588 | 1.997936 |\n",
       "\n"
      ],
      "text/plain": [
       "  STATE_NAME           RACE.POC                  METRIC              VALUE.POC \n",
       "1 Arkansas             Black or African American LISTING_DEATH_RATIO 0.09090909\n",
       "2 District of Columbia Black or African American LISTING_DEATH_RATIO 0.32386364\n",
       "  VALUE.WHITE DIFFERENTIAL\n",
       "1 0.1811790   1.992969    \n",
       "2 0.6470588   1.997936    "
      ]
     },
     "metadata": {},
     "output_type": "display_data"
    }
   ],
   "source": [
    "rateDifferentialsByState %>% \n",
    "    filter(METRIC == \"LISTING_DEATH_RATIO\",\n",
    "           grepl(\"Black\", RACE.POC),\n",
    "           STATE_NAME %in% c(\"District of Columbia\", \"Arkansas\"))"
   ]
  },
  {
   "cell_type": "markdown",
   "id": "3207a8df",
   "metadata": {},
   "source": [
    "> \"An estimated 430 additional Black people would have been accepted for liver transplants from 2018 to 2021 had national transplant rates been equal.\"\n",
    "\n",
    "The national average of Listing-Death Ratio is 0.258 and 15,541 Black people died from ESLD from 2018 - 2021. So this would estimate that approximately 4,007 Black people should have been listed, as compared to the 3,577 that were. This differential (approximately **430 people**) would have recieved transplants if all things equal."
   ]
  },
  {
   "cell_type": "code",
   "execution_count": 16,
   "id": "369c3639",
   "metadata": {
    "vscode": {
     "languageId": "r"
    }
   },
   "outputs": [
    {
     "data": {
      "text/html": [
       "<table class=\"dataframe\">\n",
       "<caption>A data.frame: 2 × 6</caption>\n",
       "<thead>\n",
       "\t<tr><th scope=col>STATE_NAME</th><th scope=col>YEAR</th><th scope=col>RACE</th><th scope=col>DEATHS</th><th scope=col>WAITLIST_LISTINGS</th><th scope=col>LISTING_DEATH_RATIO</th></tr>\n",
       "\t<tr><th scope=col>&lt;chr&gt;</th><th scope=col>&lt;chr&gt;</th><th scope=col>&lt;chr&gt;</th><th scope=col>&lt;int&gt;</th><th scope=col>&lt;int&gt;</th><th scope=col>&lt;dbl&gt;</th></tr>\n",
       "</thead>\n",
       "<tbody>\n",
       "\t<tr><td>National</td><td>2018 - 2021</td><td>All Races                </td><td>195423</td><td>50381</td><td>0.2578049</td></tr>\n",
       "\t<tr><td>National</td><td>2018 - 2021</td><td>Black or African American</td><td> 15541</td><td> 3577</td><td>0.2301654</td></tr>\n",
       "</tbody>\n",
       "</table>\n"
      ],
      "text/latex": [
       "A data.frame: 2 × 6\n",
       "\\begin{tabular}{llllll}\n",
       " STATE\\_NAME & YEAR & RACE & DEATHS & WAITLIST\\_LISTINGS & LISTING\\_DEATH\\_RATIO\\\\\n",
       " <chr> & <chr> & <chr> & <int> & <int> & <dbl>\\\\\n",
       "\\hline\n",
       "\t National & 2018 - 2021 & All Races                 & 195423 & 50381 & 0.2578049\\\\\n",
       "\t National & 2018 - 2021 & Black or African American &  15541 &  3577 & 0.2301654\\\\\n",
       "\\end{tabular}\n"
      ],
      "text/markdown": [
       "\n",
       "A data.frame: 2 × 6\n",
       "\n",
       "| STATE_NAME &lt;chr&gt; | YEAR &lt;chr&gt; | RACE &lt;chr&gt; | DEATHS &lt;int&gt; | WAITLIST_LISTINGS &lt;int&gt; | LISTING_DEATH_RATIO &lt;dbl&gt; |\n",
       "|---|---|---|---|---|---|\n",
       "| National | 2018 - 2021 | All Races                 | 195423 | 50381 | 0.2578049 |\n",
       "| National | 2018 - 2021 | Black or African American |  15541 |  3577 | 0.2301654 |\n",
       "\n"
      ],
      "text/plain": [
       "  STATE_NAME YEAR        RACE                      DEATHS WAITLIST_LISTINGS\n",
       "1 National   2018 - 2021 All Races                 195423 50381            \n",
       "2 National   2018 - 2021 Black or African American  15541  3577            \n",
       "  LISTING_DEATH_RATIO\n",
       "1 0.2578049          \n",
       "2 0.2301654          "
      ]
     },
     "metadata": {},
     "output_type": "display_data"
    }
   ],
   "source": [
    "deathTransplantListingRates %>%\n",
    "    filter(STATE_NAME == \"National\",\n",
    "           YEAR == \"2018 - 2021\",\n",
    "           RACE %in% c(\"Black or African American\", \"All Races\")) %>%\n",
    "    arrange(TRANSPLANT_LISTING_RATIO) %>%\n",
    "    select(STATE_NAME, YEAR, RACE, DEATHS, WAITLIST_LISTINGS, LISTING_DEATH_RATIO)"
   ]
  },
  {
   "cell_type": "code",
   "execution_count": 17,
   "id": "8c352d47",
   "metadata": {},
   "outputs": [
    {
     "data": {
      "text/html": [
       "429.54532926"
      ],
      "text/latex": [
       "429.54532926"
      ],
      "text/markdown": [
       "429.54532926"
      ],
      "text/plain": [
       "[1] 429.5453"
      ]
     },
     "metadata": {},
     "output_type": "display_data"
    }
   ],
   "source": [
    "(15541 * 0.25780486) - 3577"
   ]
  },
  {
   "cell_type": "markdown",
   "id": "2b563f39",
   "metadata": {},
   "source": [
    "---\n",
    "\n",
    "### Data exports"
   ]
  },
  {
   "cell_type": "code",
   "execution_count": 18,
   "id": "a54a8043",
   "metadata": {
    "vscode": {
     "languageId": "r"
    }
   },
   "outputs": [],
   "source": [
    "deathTransplantListingRates %>%\n",
    "    filter(STATE_NAME == \"National\",\n",
    "           YEAR == \"2018 - 2021\",\n",
    "           RACE %in% c(\"Asian\", \"White\", \"Black or African American\", \"American Indian or Alaska Native\")) %>%\n",
    "    select(STATE_NAME, YEAR, RACE, DEATHS, WAITLIST_LISTINGS, LISTING_DEATH_RATIO) %>%\n",
    "    arrange(-LISTING_DEATH_RATIO) %>%\n",
    "    write.csv(paste0(analysis_path, \"/output/tables/table9-listing_death_ratio_by_race.csv\"),\n",
    "              row.names = F)"
   ]
  },
  {
   "cell_type": "code",
   "execution_count": 19,
   "id": "414aa2d9",
   "metadata": {
    "vscode": {
     "languageId": "r"
    }
   },
   "outputs": [],
   "source": [
    "deathTransplantListingRates %>%\n",
    "    filter(STATE_NAME %in% c(\"Alabama\", \"Arkansas\", \"Georgia\", \"Iowa\", \"South Carolina\", \"Mississippi\"),\n",
    "           YEAR == \"2018 - 2021\") %>%\n",
    "    select(STATE_NAME, YEAR, RACE, DEATHS) %>%\n",
    "    group_by(STATE_NAME, YEAR) %>%\n",
    "    mutate(DEATHS = replace_na(DEATHS, replace = 0),\n",
    "           STATE_DEATH_SHARE = DEATHS / sum(DEATHS, na.rm = T)) %>%\n",
    "    write.csv(paste0(analysis_path, \"/output/tables/table9-deaths_by_race_by_state.csv\"),\n",
    "              row.names = F)"
   ]
  }
 ],
 "metadata": {
  "kernelspec": {
   "display_name": "R",
   "language": "R",
   "name": "ir"
  },
  "language_info": {
   "codemirror_mode": "r",
   "file_extension": ".r",
   "mimetype": "text/x-r-source",
   "name": "R",
   "pygments_lexer": "r",
   "version": "4.0.4"
  }
 },
 "nbformat": 4,
 "nbformat_minor": 5
}
