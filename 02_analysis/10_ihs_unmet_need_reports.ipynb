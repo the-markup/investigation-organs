{
 "cells": [
  {
   "cell_type": "code",
   "execution_count": 2,
   "id": "ca9c6de2",
   "metadata": {
    "vscode": {
     "languageId": "r"
    }
   },
   "outputs": [],
   "source": [
    "library(tidyverse)"
   ]
  },
  {
   "cell_type": "code",
   "execution_count": 3,
   "id": "a59ba1a4",
   "metadata": {
    "vscode": {
     "languageId": "r"
    }
   },
   "outputs": [],
   "source": [
    "root_path     <- here::here()\n",
    "data_path     <- paste0(root_path, \"/01_data\")\n",
    "analysis_path <- paste0(root_path, \"/02_analysis\")"
   ]
  },
  {
   "cell_type": "markdown",
   "id": "d494bab1",
   "metadata": {},
   "source": [
    "---\n",
    "\n",
    "### Import relevant IHS report files for 2017 - 2022\n",
    "\n",
    "Focusing on deferral numbers associated with transplants and other non-preventative medical treatments"
   ]
  },
  {
   "cell_type": "code",
   "execution_count": 4,
   "id": "f6c7d65b",
   "metadata": {
    "vscode": {
     "languageId": "r"
    }
   },
   "outputs": [],
   "source": [
    "setwd(data_path)"
   ]
  },
  {
   "cell_type": "code",
   "execution_count": 5,
   "id": "dae4d640",
   "metadata": {
    "vscode": {
     "languageId": "r"
    }
   },
   "outputs": [],
   "source": [
    "for (yr in 2016:2022) {\n",
    "    folder_path <- glue::glue(\"raw/08_ihs_unmet_need/FY {yr} Unmet Need Reports\")\n",
    "    \n",
    "    tertiary_file <- list.files(folder_path, pattern = \"Tertiary\")\n",
    "    tertiary_df.raw <- read.csv(paste0(folder_path, \"/\", tertiary_file), header = F)\n",
    "    \n",
    "    tertiary_cols <- t(tertiary_df.raw[7:8,2:37]) %>%\n",
    "        as_tibble() %>%\n",
    "        set_names(\"service_unit\", \"fed_tribal_total\") %>%\n",
    "        mutate(across(everything(), ~ case_when(.x != \"\" ~ .x))) %>%\n",
    "        fill(service_unit) %>%\n",
    "        mutate(col = toupper(paste0(service_unit, \" ~ \", fed_tribal_total))) %>%\n",
    "        pull(col)\n",
    "    \n",
    "    tertiary_df <- tertiary_df.raw[10,2:37] %>%\n",
    "        set_names(tertiary_cols) %>%\n",
    "        pivot_longer(everything(), values_to = \"N\") %>%\n",
    "        separate(name, into = c(\"SERVICE_UNIT\", \"FEDERAL_OR_TRIBAL\"), sep = \" ~ \") %>%\n",
    "        mutate(YEAR = yr, CATEGORY = \"TRANSPLANT\", .before = everything()) %>%\n",
    "        mutate(FEDERAL_OR_TRIBAL = str_trim(FEDERAL_OR_TRIBAL),\n",
    "               N = replace_na(suppressWarnings(as.numeric(gsub(\",\", \"\", N))), 0))\n",
    "    \n",
    "    assign(glue::glue(\"tertiary_df_{yr}\"), tertiary_df)\n",
    "    \n",
    "    acute_file <- list.files(folder_path, pattern = \"Acute & Chronic\")\n",
    "    acute_df.raw <- read.csv(paste0(folder_path, \"/\", acute_file), header = F)\n",
    "    \n",
    "    acute_cols <- t(acute_df.raw[7:8,3:38]) %>%\n",
    "        as_tibble() %>%\n",
    "        set_names(\"service_unit\", \"fed_tribal_total\") %>%\n",
    "        mutate(across(everything(), ~ case_when(.x != \"\" ~ .x))) %>%\n",
    "        fill(service_unit) %>%\n",
    "        mutate(col = paste0(service_unit, \" ~ \", fed_tribal_total)) %>%\n",
    "        pull(col)\n",
    "    \n",
    "    acute_df <- cbind(toupper(gsub(\"^[a-o]. \", \"\", acute_df.raw[30:44, 2])), \n",
    "                      acute_df.raw[30:44, 3:38]) %>%\n",
    "        set_names(c(\"CATEGORY\", acute_cols)) %>%\n",
    "        pivot_longer(matches(\" ~ \"), values_to = \"N\") %>%\n",
    "        separate(name, into = c(\"SERVICE_UNIT\", \"FEDERAL_OR_TRIBAL\"), sep = \" ~ \") %>%\n",
    "        mutate(YEAR = yr, .before = everything()) %>%\n",
    "        mutate(N = replace_na(suppressWarnings(as.numeric(gsub(\",\", \"\", N))), 0))\n",
    "    \n",
    "    assign(glue::glue(\"acute_df_{yr}\"), acute_df)\n",
    "}"
   ]
  },
  {
   "cell_type": "code",
   "execution_count": 6,
   "id": "7270cc65",
   "metadata": {
    "vscode": {
     "languageId": "r"
    }
   },
   "outputs": [],
   "source": [
    "acute_df <- data.table::rbindlist(lapply(ls(pattern = \"acute_df_20\"), get))"
   ]
  },
  {
   "cell_type": "code",
   "execution_count": 7,
   "id": "de15637f",
   "metadata": {
    "vscode": {
     "languageId": "r"
    }
   },
   "outputs": [],
   "source": [
    "tertiary_df <- data.table::rbindlist(lapply(ls(pattern = \"tertiary_df_20\"), get))"
   ]
  },
  {
   "cell_type": "code",
   "execution_count": 8,
   "id": "c37c46fd",
   "metadata": {
    "vscode": {
     "languageId": "r"
    }
   },
   "outputs": [
    {
     "data": {
      "text/html": [
       "<table class=\"dataframe\">\n",
       "<caption>A data.table: 6 × 5</caption>\n",
       "<thead>\n",
       "\t<tr><th scope=col>YEAR</th><th scope=col>CATEGORY</th><th scope=col>SERVICE_UNIT</th><th scope=col>FEDERAL_OR_TRIBAL</th><th scope=col>N</th></tr>\n",
       "\t<tr><th scope=col>&lt;int&gt;</th><th scope=col>&lt;chr&gt;</th><th scope=col>&lt;chr&gt;</th><th scope=col>&lt;chr&gt;</th><th scope=col>&lt;dbl&gt;</th></tr>\n",
       "</thead>\n",
       "<tbody>\n",
       "\t<tr><td>2016</td><td>CAT SCANS/NUCLEAR MED./MRI</td><td>ALASKA</td><td>FEDERAL</td><td>0</td></tr>\n",
       "\t<tr><td>2016</td><td>CAT SCANS/NUCLEAR MED./MRI</td><td>ALASKA</td><td>TOTAL  </td><td>0</td></tr>\n",
       "\t<tr><td>2016</td><td>CAT SCANS/NUCLEAR MED./MRI</td><td>ALASKA</td><td>TRIBAL </td><td>0</td></tr>\n",
       "\t<tr><td>2016</td><td>DERMATOLOGY               </td><td>ALASKA</td><td>FEDERAL</td><td>0</td></tr>\n",
       "\t<tr><td>2016</td><td>DERMATOLOGY               </td><td>ALASKA</td><td>TOTAL  </td><td>0</td></tr>\n",
       "\t<tr><td>2016</td><td>DERMATOLOGY               </td><td>ALASKA</td><td>TRIBAL </td><td>0</td></tr>\n",
       "</tbody>\n",
       "</table>\n"
      ],
      "text/latex": [
       "A data.table: 6 × 5\n",
       "\\begin{tabular}{lllll}\n",
       " YEAR & CATEGORY & SERVICE\\_UNIT & FEDERAL\\_OR\\_TRIBAL & N\\\\\n",
       " <int> & <chr> & <chr> & <chr> & <dbl>\\\\\n",
       "\\hline\n",
       "\t 2016 & CAT SCANS/NUCLEAR MED./MRI & ALASKA & FEDERAL & 0\\\\\n",
       "\t 2016 & CAT SCANS/NUCLEAR MED./MRI & ALASKA & TOTAL   & 0\\\\\n",
       "\t 2016 & CAT SCANS/NUCLEAR MED./MRI & ALASKA & TRIBAL  & 0\\\\\n",
       "\t 2016 & DERMATOLOGY                & ALASKA & FEDERAL & 0\\\\\n",
       "\t 2016 & DERMATOLOGY                & ALASKA & TOTAL   & 0\\\\\n",
       "\t 2016 & DERMATOLOGY                & ALASKA & TRIBAL  & 0\\\\\n",
       "\\end{tabular}\n"
      ],
      "text/markdown": [
       "\n",
       "A data.table: 6 × 5\n",
       "\n",
       "| YEAR &lt;int&gt; | CATEGORY &lt;chr&gt; | SERVICE_UNIT &lt;chr&gt; | FEDERAL_OR_TRIBAL &lt;chr&gt; | N &lt;dbl&gt; |\n",
       "|---|---|---|---|---|\n",
       "| 2016 | CAT SCANS/NUCLEAR MED./MRI | ALASKA | FEDERAL | 0 |\n",
       "| 2016 | CAT SCANS/NUCLEAR MED./MRI | ALASKA | TOTAL   | 0 |\n",
       "| 2016 | CAT SCANS/NUCLEAR MED./MRI | ALASKA | TRIBAL  | 0 |\n",
       "| 2016 | DERMATOLOGY                | ALASKA | FEDERAL | 0 |\n",
       "| 2016 | DERMATOLOGY                | ALASKA | TOTAL   | 0 |\n",
       "| 2016 | DERMATOLOGY                | ALASKA | TRIBAL  | 0 |\n",
       "\n"
      ],
      "text/plain": [
       "  YEAR CATEGORY                   SERVICE_UNIT FEDERAL_OR_TRIBAL N\n",
       "1 2016 CAT SCANS/NUCLEAR MED./MRI ALASKA       FEDERAL           0\n",
       "2 2016 CAT SCANS/NUCLEAR MED./MRI ALASKA       TOTAL             0\n",
       "3 2016 CAT SCANS/NUCLEAR MED./MRI ALASKA       TRIBAL            0\n",
       "4 2016 DERMATOLOGY                ALASKA       FEDERAL           0\n",
       "5 2016 DERMATOLOGY                ALASKA       TOTAL             0\n",
       "6 2016 DERMATOLOGY                ALASKA       TRIBAL            0"
      ]
     },
     "metadata": {},
     "output_type": "display_data"
    }
   ],
   "source": [
    "deferrals_df <- bind_rows(tertiary_df, acute_df) %>%\n",
    "    arrange(SERVICE_UNIT, YEAR, CATEGORY, FEDERAL_OR_TRIBAL)\n",
    "\n",
    "head(deferrals_df)"
   ]
  },
  {
   "cell_type": "markdown",
   "id": "779302ef",
   "metadata": {},
   "source": [
    "---\n",
    "\n",
    "### In-story data"
   ]
  },
  {
   "cell_type": "markdown",
   "id": "12668385",
   "metadata": {},
   "source": [
    "> \"[T]he IHS paid claims for inpatient substance-use treatment for an average of just 18 patients a year from 2018 to 2022.\"\n",
    "\n",
    "See `01_data/raw/08_ihs_unmet_need/IHS Liver Claims 2018-2021.xlsx`."
   ]
  },
  {
   "cell_type": "markdown",
   "id": "9ad2533b",
   "metadata": {},
   "source": [
    "> \"IHS data show the agency deferred nearly 113,000 patient requests to see specialists from 2018 to 2022, including 6,196 requests to see gastroenterologists, who treat liver disease and make referrals to transplant centers.\"\n",
    "\n",
    "There were **112,961 reported tertiary deferrals** from 2018 - 2022, including **6,196 reported deferrals for gastroenterologists**."
   ]
  },
  {
   "cell_type": "code",
   "execution_count": 9,
   "id": "2068ef3d",
   "metadata": {
    "vscode": {
     "languageId": "r"
    }
   },
   "outputs": [
    {
     "data": {
      "text/html": [
       "<table class=\"dataframe\">\n",
       "<caption>A data.frame: 1 × 1</caption>\n",
       "<thead>\n",
       "\t<tr><th scope=col>N</th></tr>\n",
       "\t<tr><th scope=col>&lt;dbl&gt;</th></tr>\n",
       "</thead>\n",
       "<tbody>\n",
       "\t<tr><td>112961</td></tr>\n",
       "</tbody>\n",
       "</table>\n"
      ],
      "text/latex": [
       "A data.frame: 1 × 1\n",
       "\\begin{tabular}{l}\n",
       " N\\\\\n",
       " <dbl>\\\\\n",
       "\\hline\n",
       "\t 112961\\\\\n",
       "\\end{tabular}\n"
      ],
      "text/markdown": [
       "\n",
       "A data.frame: 1 × 1\n",
       "\n",
       "| N &lt;dbl&gt; |\n",
       "|---|\n",
       "| 112961 |\n",
       "\n"
      ],
      "text/plain": [
       "  N     \n",
       "1 112961"
      ]
     },
     "metadata": {},
     "output_type": "display_data"
    }
   ],
   "source": [
    "deferrals_df %>% \n",
    "    filter(FEDERAL_OR_TRIBAL == \"TOTAL\", \n",
    "           YEAR %in% 2018:2022,\n",
    "           CATEGORY != \"TRANSPLANT\") %>%\n",
    "    summarise(N = sum(N))"
   ]
  },
  {
   "cell_type": "code",
   "execution_count": 10,
   "id": "26f3b0a0",
   "metadata": {
    "vscode": {
     "languageId": "r"
    }
   },
   "outputs": [
    {
     "data": {
      "text/html": [
       "<table class=\"dataframe\">\n",
       "<caption>A data.frame: 1 × 1</caption>\n",
       "<thead>\n",
       "\t<tr><th scope=col>N</th></tr>\n",
       "\t<tr><th scope=col>&lt;dbl&gt;</th></tr>\n",
       "</thead>\n",
       "<tbody>\n",
       "\t<tr><td>6196</td></tr>\n",
       "</tbody>\n",
       "</table>\n"
      ],
      "text/latex": [
       "A data.frame: 1 × 1\n",
       "\\begin{tabular}{l}\n",
       " N\\\\\n",
       " <dbl>\\\\\n",
       "\\hline\n",
       "\t 6196\\\\\n",
       "\\end{tabular}\n"
      ],
      "text/markdown": [
       "\n",
       "A data.frame: 1 × 1\n",
       "\n",
       "| N &lt;dbl&gt; |\n",
       "|---|\n",
       "| 6196 |\n",
       "\n"
      ],
      "text/plain": [
       "  N   \n",
       "1 6196"
      ]
     },
     "metadata": {},
     "output_type": "display_data"
    }
   ],
   "source": [
    "deferrals_df %>% \n",
    "    filter(FEDERAL_OR_TRIBAL == \"TOTAL\", \n",
    "           YEAR %in% 2018:2022,\n",
    "           CATEGORY == \"GI/GASTROSCOPY\") %>%\n",
    "    summarise(N = sum(N))"
   ]
  },
  {
   "cell_type": "markdown",
   "id": "4c8d4bad",
   "metadata": {},
   "source": [
    "> \"However, agency data shows it paid claims for an average of just 226 patients a year to see hepatologists. Rates were similar for gastroenterologists.\"\n",
    "\n",
    "See `01_data/raw/08_ihs_unmet_need/IHS Liver Claims 2018-2021.xlsx`."
   ]
  },
  {
   "cell_type": "markdown",
   "id": "9f8c6a41",
   "metadata": {},
   "source": [
    "> \"Claim data shows the agency chipped in very little to the cost of liver transplantation, averaging \\\\$11,200 per patient.\"\n",
    "\n",
    "> \"From 2018 to 2022, the agency kicked in funding for just six liver transplants.\"\n",
    "\n",
    "See `01_data/raw/08_ihs_unmet_need/IHS Liver Claims 2018-2021.xlsx`."
   ]
  },
  {
   "cell_type": "markdown",
   "id": "162fddc3",
   "metadata": {},
   "source": [
    "> \"During the same period, it deferred 105 requests for transplants of all organ types\"\n",
    "\n",
    "IHS reported deferring **105 transplants from 2018 - 2022**."
   ]
  },
  {
   "cell_type": "code",
   "execution_count": 11,
   "id": "7a6f6097",
   "metadata": {
    "vscode": {
     "languageId": "r"
    }
   },
   "outputs": [
    {
     "data": {
      "text/html": [
       "<table class=\"dataframe\">\n",
       "<caption>A data.frame: 1 × 1</caption>\n",
       "<thead>\n",
       "\t<tr><th scope=col>N</th></tr>\n",
       "\t<tr><th scope=col>&lt;dbl&gt;</th></tr>\n",
       "</thead>\n",
       "<tbody>\n",
       "\t<tr><td>105</td></tr>\n",
       "</tbody>\n",
       "</table>\n"
      ],
      "text/latex": [
       "A data.frame: 1 × 1\n",
       "\\begin{tabular}{l}\n",
       " N\\\\\n",
       " <dbl>\\\\\n",
       "\\hline\n",
       "\t 105\\\\\n",
       "\\end{tabular}\n"
      ],
      "text/markdown": [
       "\n",
       "A data.frame: 1 × 1\n",
       "\n",
       "| N &lt;dbl&gt; |\n",
       "|---|\n",
       "| 105 |\n",
       "\n"
      ],
      "text/plain": [
       "  N  \n",
       "1 105"
      ]
     },
     "metadata": {},
     "output_type": "display_data"
    }
   ],
   "source": [
    "deferrals_df %>% \n",
    "    filter(FEDERAL_OR_TRIBAL == \"TOTAL\", \n",
    "           YEAR %in% 2018:2022,\n",
    "           CATEGORY == \"TRANSPLANT\") %>%\n",
    "    summarise(N = sum(N))"
   ]
  }
 ],
 "metadata": {
  "kernelspec": {
   "display_name": "R",
   "language": "R",
   "name": "ir"
  },
  "language_info": {
   "codemirror_mode": "r",
   "file_extension": ".r",
   "mimetype": "text/x-r-source",
   "name": "R",
   "pygments_lexer": "r",
   "version": "4.0.4"
  }
 },
 "nbformat": 4,
 "nbformat_minor": 5
}
