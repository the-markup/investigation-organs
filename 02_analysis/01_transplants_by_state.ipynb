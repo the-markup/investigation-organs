{
 "cells": [
  {
   "cell_type": "markdown",
   "id": "0123b560",
   "metadata": {},
   "source": [
    "## ORGANS: Transplant by State\n",
    "\n",
    "This notebook contains analysis of state-level trends in transplants by state.\n",
    "\n",
    "---\n",
    "\n",
    "### Initialize environment"
   ]
  },
  {
   "cell_type": "code",
   "execution_count": 2,
   "id": "cbce5107",
   "metadata": {
    "vscode": {
     "languageId": "r"
    }
   },
   "outputs": [],
   "source": [
    "library(tidyverse)\n",
    "library(patchwork)\n",
    "library(gridExtra)"
   ]
  },
  {
   "cell_type": "code",
   "execution_count": 3,
   "id": "08b30b7f",
   "metadata": {
    "vscode": {
     "languageId": "r"
    }
   },
   "outputs": [],
   "source": [
    "root_path     <- here::here()\n",
    "data_path     <- paste0(root_path, \"/01_data\")\n",
    "analysis_path <- paste0(root_path, \"/02_analysis\")"
   ]
  },
  {
   "cell_type": "code",
   "execution_count": 4,
   "id": "07e023cc",
   "metadata": {
    "vscode": {
     "languageId": "r"
    }
   },
   "outputs": [],
   "source": [
    "setwd(data_path)\n",
    "\n",
    "transplant <- readRDS(\"clean/transplant_clean.rds\")\n",
    "\n",
    "donor <- readRDS(\"clean/donor_clean.rds\")\n",
    "\n",
    "state_code_mapping <- read.csv(\"raw/00_misc/state_code_mapping_20221022.csv\")\n",
    "\n",
    "setwd(analysis_path)"
   ]
  },
  {
   "cell_type": "markdown",
   "id": "b4ad580a",
   "metadata": {},
   "source": [
    "---\n",
    "\n",
    "### Aggregate data for transplants by year-state"
   ]
  },
  {
   "cell_type": "code",
   "execution_count": 5,
   "id": "9baa9b9d",
   "metadata": {
    "vscode": {
     "languageId": "r"
    }
   },
   "outputs": [
    {
     "name": "stderr",
     "output_type": "stream",
     "text": [
      "filter: removed 3 rows (<1%), 34,523 rows remaining\n",
      "\n"
     ]
    },
    {
     "data": {
      "text/html": [
       "<table class=\"dataframe\">\n",
       "<caption>A tibble: 6 × 4</caption>\n",
       "<thead>\n",
       "\t<tr><th scope=col>YEAR</th><th scope=col>STATE</th><th scope=col>N_TX</th><th scope=col>PCT_TX</th></tr>\n",
       "\t<tr><th scope=col>&lt;dbl&gt;</th><th scope=col>&lt;chr&gt;</th><th scope=col>&lt;int&gt;</th><th scope=col>&lt;dbl&gt;</th></tr>\n",
       "</thead>\n",
       "<tbody>\n",
       "\t<tr><td>2018</td><td>AL</td><td>119</td><td>0.015480682</td></tr>\n",
       "\t<tr><td>2018</td><td>AR</td><td> 37</td><td>0.004813321</td></tr>\n",
       "\t<tr><td>2018</td><td>AZ</td><td>281</td><td>0.036555223</td></tr>\n",
       "\t<tr><td>2018</td><td>CA</td><td>816</td><td>0.106153246</td></tr>\n",
       "\t<tr><td>2018</td><td>CO</td><td>119</td><td>0.015480682</td></tr>\n",
       "\t<tr><td>2018</td><td>CT</td><td> 60</td><td>0.007805386</td></tr>\n",
       "</tbody>\n",
       "</table>\n"
      ],
      "text/latex": [
       "A tibble: 6 × 4\n",
       "\\begin{tabular}{llll}\n",
       " YEAR & STATE & N\\_TX & PCT\\_TX\\\\\n",
       " <dbl> & <chr> & <int> & <dbl>\\\\\n",
       "\\hline\n",
       "\t 2018 & AL & 119 & 0.015480682\\\\\n",
       "\t 2018 & AR &  37 & 0.004813321\\\\\n",
       "\t 2018 & AZ & 281 & 0.036555223\\\\\n",
       "\t 2018 & CA & 816 & 0.106153246\\\\\n",
       "\t 2018 & CO & 119 & 0.015480682\\\\\n",
       "\t 2018 & CT &  60 & 0.007805386\\\\\n",
       "\\end{tabular}\n"
      ],
      "text/markdown": [
       "\n",
       "A tibble: 6 × 4\n",
       "\n",
       "| YEAR &lt;dbl&gt; | STATE &lt;chr&gt; | N_TX &lt;int&gt; | PCT_TX &lt;dbl&gt; |\n",
       "|---|---|---|---|\n",
       "| 2018 | AL | 119 | 0.015480682 |\n",
       "| 2018 | AR |  37 | 0.004813321 |\n",
       "| 2018 | AZ | 281 | 0.036555223 |\n",
       "| 2018 | CA | 816 | 0.106153246 |\n",
       "| 2018 | CO | 119 | 0.015480682 |\n",
       "| 2018 | CT |  60 | 0.007805386 |\n",
       "\n"
      ],
      "text/plain": [
       "  YEAR STATE N_TX PCT_TX     \n",
       "1 2018 AL    119  0.015480682\n",
       "2 2018 AR     37  0.004813321\n",
       "3 2018 AZ    281  0.036555223\n",
       "4 2018 CA    816  0.106153246\n",
       "5 2018 CO    119  0.015480682\n",
       "6 2018 CT     60  0.007805386"
      ]
     },
     "metadata": {},
     "output_type": "display_data"
    }
   ],
   "source": [
    "txByYearState <- transplant %>%\n",
    "  # excluding 3 transplants with missing candidate information\n",
    "  tidylog::filter(!is.na(CAN_HOSPITAL_STATE)) %>%\n",
    "  filter(REC_TX_DT_YEAR %in% 2018:2021) %>%\n",
    "  count(YEAR = REC_TX_DT_YEAR, STATE = CAN_HOSPITAL_STATE, name = \"N_TX\") %>%\n",
    "  group_by(YEAR) %>%\n",
    "  mutate(PCT_TX = N_TX / sum(N_TX)) %>%\n",
    "  ungroup()\n",
    "\n",
    "write.csv(x = txByYearState,\n",
    "          file = \"output/tables/table1-transplants_by_year_state.csv\",\n",
    "          row.names = F, na = \"0\")\n",
    "\n",
    "txByYearState %>% head()"
   ]
  },
  {
   "cell_type": "markdown",
   "id": "bbc28c09",
   "metadata": {},
   "source": [
    "---\n",
    "\n",
    "### Calculate the change in transplants from 2019 to 2021"
   ]
  },
  {
   "cell_type": "code",
   "execution_count": 6,
   "id": "a76a0681",
   "metadata": {
    "vscode": {
     "languageId": "r"
    }
   },
   "outputs": [
    {
     "data": {
      "text/html": [
       "<table class=\"dataframe\">\n",
       "<caption>A tibble: 6 × 6</caption>\n",
       "<thead>\n",
       "\t<tr><th scope=col>STATE</th><th scope=col>STATE_REGION</th><th scope=col>N_TX_2019</th><th scope=col>N_TX_2021</th><th scope=col>N_CHG_2019to2021</th><th scope=col>PCT_CHG_2019to2021</th></tr>\n",
       "\t<tr><th scope=col>&lt;chr&gt;</th><th scope=col>&lt;chr&gt;</th><th scope=col>&lt;int&gt;</th><th scope=col>&lt;int&gt;</th><th scope=col>&lt;int&gt;</th><th scope=col>&lt;dbl&gt;</th></tr>\n",
       "</thead>\n",
       "<tbody>\n",
       "\t<tr><td>PA</td><td>Northeast</td><td>585</td><td>505</td><td>-80</td><td>-0.13675214</td></tr>\n",
       "\t<tr><td>LA</td><td>South    </td><td>239</td><td>174</td><td>-65</td><td>-0.27196653</td></tr>\n",
       "\t<tr><td>AL</td><td>South    </td><td>128</td><td> 72</td><td>-56</td><td>-0.43750000</td></tr>\n",
       "\t<tr><td>TX</td><td>South    </td><td>819</td><td>780</td><td>-39</td><td>-0.04761905</td></tr>\n",
       "\t<tr><td>KS</td><td>Midwest  </td><td> 80</td><td> 50</td><td>-30</td><td>-0.37500000</td></tr>\n",
       "\t<tr><td>NC</td><td>South    </td><td>245</td><td>220</td><td>-25</td><td>-0.10204082</td></tr>\n",
       "</tbody>\n",
       "</table>\n"
      ],
      "text/latex": [
       "A tibble: 6 × 6\n",
       "\\begin{tabular}{llllll}\n",
       " STATE & STATE\\_REGION & N\\_TX\\_2019 & N\\_TX\\_2021 & N\\_CHG\\_2019to2021 & PCT\\_CHG\\_2019to2021\\\\\n",
       " <chr> & <chr> & <int> & <int> & <int> & <dbl>\\\\\n",
       "\\hline\n",
       "\t PA & Northeast & 585 & 505 & -80 & -0.13675214\\\\\n",
       "\t LA & South     & 239 & 174 & -65 & -0.27196653\\\\\n",
       "\t AL & South     & 128 &  72 & -56 & -0.43750000\\\\\n",
       "\t TX & South     & 819 & 780 & -39 & -0.04761905\\\\\n",
       "\t KS & Midwest   &  80 &  50 & -30 & -0.37500000\\\\\n",
       "\t NC & South     & 245 & 220 & -25 & -0.10204082\\\\\n",
       "\\end{tabular}\n"
      ],
      "text/markdown": [
       "\n",
       "A tibble: 6 × 6\n",
       "\n",
       "| STATE &lt;chr&gt; | STATE_REGION &lt;chr&gt; | N_TX_2019 &lt;int&gt; | N_TX_2021 &lt;int&gt; | N_CHG_2019to2021 &lt;int&gt; | PCT_CHG_2019to2021 &lt;dbl&gt; |\n",
       "|---|---|---|---|---|---|\n",
       "| PA | Northeast | 585 | 505 | -80 | -0.13675214 |\n",
       "| LA | South     | 239 | 174 | -65 | -0.27196653 |\n",
       "| AL | South     | 128 |  72 | -56 | -0.43750000 |\n",
       "| TX | South     | 819 | 780 | -39 | -0.04761905 |\n",
       "| KS | Midwest   |  80 |  50 | -30 | -0.37500000 |\n",
       "| NC | South     | 245 | 220 | -25 | -0.10204082 |\n",
       "\n"
      ],
      "text/plain": [
       "  STATE STATE_REGION N_TX_2019 N_TX_2021 N_CHG_2019to2021 PCT_CHG_2019to2021\n",
       "1 PA    Northeast    585       505       -80              -0.13675214       \n",
       "2 LA    South        239       174       -65              -0.27196653       \n",
       "3 AL    South        128        72       -56              -0.43750000       \n",
       "4 TX    South        819       780       -39              -0.04761905       \n",
       "5 KS    Midwest       80        50       -30              -0.37500000       \n",
       "6 NC    South        245       220       -25              -0.10204082       "
      ]
     },
     "metadata": {},
     "output_type": "display_data"
    }
   ],
   "source": [
    "txChg2019to2021 <- txByYearState %>%\n",
    "  filter(YEAR %in% c(2019, 2021)) %>%\n",
    "  pivot_wider(STATE, names_from = YEAR, names_prefix = \"N_TX_\", values_from = N_TX) %>%\n",
    "  mutate(N_CHG_2019to2021 = N_TX_2021 - N_TX_2019,\n",
    "         PCT_CHG_2019to2021 = N_TX_2021 / N_TX_2019 - 1) %>%\n",
    "  arrange(N_CHG_2019to2021) %>%\n",
    "  left_join(state_code_mapping %>% select(STATE_CODE, STATE_REGION),\n",
    "            by = c(\"STATE\" = \"STATE_CODE\")) %>%\n",
    "  relocate(STATE_REGION, .after = STATE)\n",
    "\n",
    "write.csv(x = txChg2019to2021,\n",
    "          file = \"output/tables/table1-change_in_transplants_2019to2021.csv\",\n",
    "          row.names = F)\n",
    "\n",
    "txChg2019to2021 %>% head()"
   ]
  },
  {
   "cell_type": "markdown",
   "id": "55e4787d",
   "metadata": {},
   "source": [
    "---\n",
    "\n",
    "### Visualize 365-day rolling transplant counts (relative to policy change + COVID)"
   ]
  },
  {
   "cell_type": "code",
   "execution_count": 8,
   "id": "3b6a3e3e",
   "metadata": {},
   "outputs": [],
   "source": [
    "setwd(data_path)\n",
    "\n",
    "transplant.raw <- as_tibble(read.csv(\"raw/04_transplant/TX_LI_22F218Records(2of2)-redacted.csv\"))\n",
    "\n",
    "institution.raw <- as_tibble(read.csv(\"raw/01_hospitals/22F138_Institution.csv\"))\n",
    "\n",
    "setwd(analysis_path)"
   ]
  },
  {
   "cell_type": "code",
   "execution_count": 9,
   "id": "33760d76",
   "metadata": {},
   "outputs": [],
   "source": [
    "tx <- transplant.raw %>%\n",
    "  filter(REC_AGE_AT_TX %in% c(\"18-34\", \"35-49\", \"50-64\", \"65+\", \"Unknown\")) %>%\n",
    "  mutate(REC_TX_DT_DATE = as.Date(REC_TX_DT, \"%m/%d/%Y\")) %>%\n",
    "  left_join(institution.raw %>%\n",
    "              filter(CTR_TY == \"TX1: Transplant Hospital\") %>%\n",
    "                     select(CTR_ID, CTR_TY, CAN_HOSPITAL_STATE = PRIMARY_STATE), \n",
    "            by = c(\"REC_CTR_ID\" = \"CTR_ID\"))"
   ]
  },
  {
   "cell_type": "code",
   "execution_count": 10,
   "id": "286d6f30",
   "metadata": {},
   "outputs": [],
   "source": [
    "tx2 <- tx %>%\n",
    "  filter(!is.na(CAN_HOSPITAL_STATE), REC_TX_DT_DATE >= as.Date(\"2015-01-01\")) %>%\n",
    "  count(STATE = CAN_HOSPITAL_STATE, DATE = REC_TX_DT_DATE, name = \"N_TX\") %>%\n",
    "  full_join(expand.grid(STATE = unique(.$STATE),\n",
    "                        DATE = seq.Date(min(.$DATE), max(.$DATE), \"day\")),\n",
    "            by = c(\"STATE\", \"DATE\")) %>%\n",
    "  arrange(STATE, DATE) %>%\n",
    "  group_by(STATE) %>%\n",
    "  mutate(N_TX = replace_na(N_TX, 0),\n",
    "         N_TX_30D = zoo::rollsum(N_TX, 30, na.pad = T, align = \"right\"),\n",
    "         N_TX_365D = zoo::rollsum(N_TX, 365, na.pad = T, align = \"right\")) %>%\n",
    "  ungroup()"
   ]
  },
  {
   "cell_type": "code",
   "execution_count": 11,
   "id": "5d9483eb",
   "metadata": {},
   "outputs": [
    {
     "data": {
      "image/png": "[encoded data removed]",
      "text/plain": [
       "plot without title"
      ]
     },
     "metadata": {
      "image/png": {
       "height": 420,
       "width": 420
      }
     },
     "output_type": "display_data"
    }
   ],
   "source": [
    "tx2 %>%\n",
    "  filter(STATE == \"NY\",\n",
    "         DATE >= as.Date(\"2017-01-01\")) %>%\n",
    "  ggplot(aes(x = DATE, y = N_TX_365D)) +\n",
    "  geom_vline(xintercept = as.Date(\"2020-03-12\"), linetype = \"dashed\") +\n",
    "  geom_vline(xintercept = as.Date(\"2020-02-04\"), linetype = \"dotted\") +\n",
    "  geom_text(tibble(label = \"2020-02-04: Policy change\", x = as.Date(\"2020-02-04\"), y = 0),\n",
    "            mapping = aes(label = label, x = x, y = y), inherit.aes = F,\n",
    "            vjust = -0.5, hjust = 1.025) +\n",
    "  geom_text(tibble(label = \"2020-03-12: First major COVID surge\", x = as.Date(\"2020-03-12\"), y = 0),\n",
    "            mapping = aes(label = label, x = x, y = y), inherit.aes = F,\n",
    "            vjust = -0.5, hjust = -0.025) +\n",
    "  geom_line() +\n",
    "  facet_wrap(~ STATE) +\n",
    "  scale_x_date(name = NULL, date_labels = \"%Y\", date_breaks = \"1 year\", expand = c(0, 0)) +\n",
    "  scale_y_continuous(name = NULL) +\n",
    "  expand_limits(y = 0) +\n",
    "  labs(title = \"Transplants\",\n",
    "       subtitle = \"365-day rolling\") +\n",
    "  theme_minimal() +\n",
    "  theme(panel.grid.major.x = element_blank(),\n",
    "        panel.grid.minor = element_blank())"
   ]
  },
  {
   "cell_type": "markdown",
   "id": "c0bc450a",
   "metadata": {},
   "source": [
    "---\n",
    "\n",
    "### Generate PDF sheet for each state"
   ]
  },
  {
   "cell_type": "code",
   "execution_count": null,
   "id": "b3127b79",
   "metadata": {
    "vscode": {
     "languageId": "r"
    }
   },
   "outputs": [],
   "source": [
    "setwd(\"output/figures/state_level_tx_plots/\")"
   ]
  },
  {
   "cell_type": "code",
   "execution_count": null,
   "id": "30426266",
   "metadata": {
    "scrolled": true,
    "vscode": {
     "languageId": "r"
    }
   },
   "outputs": [],
   "source": [
    "for (i in 1:nrow(state_code_mapping)) {\n",
    "  state_row <- state_code_mapping[i,]\n",
    "  state <- state_row$STATE_CODE\n",
    "    \n",
    "  if (state == \"VI\") next\n",
    "  if (txByYearState %>% filter(state == STATE) %>% nrow() == 0) next\n",
    "  print(state_row$STATE_NAME)\n",
    "  \n",
    "  # create a plot of annual transplants (with % of national)\n",
    "  plot1 <- txByYearState %>%\n",
    "    filter(STATE == state) %>%\n",
    "    pivot_longer(N_TX:PCT_TX, names_to = \"SERIES\", values_to = \"VALUE\") %>%\n",
    "    mutate(SERIES = factor(SERIES, levels = c(\"N_TX\", \"PCT_TX\"))) %>%\n",
    "    ggplot(aes(x = YEAR, y = VALUE)) +\n",
    "    geom_line(na.rm = T) +\n",
    "    geom_point(na.rm = T) +\n",
    "    scale_x_continuous(name = NULL) +\n",
    "    scale_y_continuous(name = NULL, labels = function(l) {\n",
    "      case_when(l >= 1 ~ scales::comma(l, accuracy = 1),\n",
    "                l > 0 ~ scales::percent(l, accuracy = 0.01),\n",
    "                T ~ scales::number(l)) %>%\n",
    "        return()\n",
    "    }) +\n",
    "    facet_wrap(~ SERIES, scales = \"free_y\",\n",
    "               labeller = labeller(SERIES = c(\"N_TX\" = \"# of Transplants\",\n",
    "                                              \"PCT_TX\" = \"% of National Transplants\"))) +\n",
    "    labs(title = paste0(state_row$STATE_NAME, \" (\", state, \")\"),\n",
    "         subtitle = \"Transplants, annual 2018 - 2021\") +\n",
    "    theme_bw() +\n",
    "    theme(panel.grid.major.x = element_blank(),\n",
    "          panel.grid.minor = element_blank())\n",
    "    \n",
    "  # create a plot of 365-day rolling transplants  \n",
    "  plot2 <- tx2 %>%\n",
    "    filter(STATE == state,\n",
    "         DATE >= as.Date(\"2017-01-01\")) %>%\n",
    "    ggplot(aes(x = DATE, y = N_TX_365D)) +\n",
    "    geom_vline(xintercept = as.Date(\"2020-02-04\"), linetype = \"dotted\") +\n",
    "    geom_line() +\n",
    "    scale_x_date(name = NULL, date_labels = \"%b %d\\n%Y\", \n",
    "                 breaks = sort(c(seq.Date(as.Date(\"2017-01-01\"), as.Date(\"2021-01-01\"), \"2 years \"), \n",
    "                                 as.Date(\"2020-02-04\"))), expand = c(0, 0)) +\n",
    "    scale_y_continuous(name = NULL) +\n",
    "    labs(subtitle = \"Transplants, rolling 365d\") +\n",
    "    theme_minimal() +\n",
    "    theme(panel.grid.major.x = element_blank(),\n",
    "        panel.grid.minor = element_blank())\n",
    "  \n",
    "  # create a tableGrob for the 2019/2021 totals\n",
    "  tbl <- txByYearState %>%\n",
    "    mutate(across(matches(\"^N|PCT\"), replace_na, 0)) %>%\n",
    "    filter(STATE == state, YEAR %in% c(2019, 2021)) %>%\n",
    "    arrange(YEAR) %>%\n",
    "    select(Tx = N_TX) %>%\n",
    "    tableGrob(rows = paste0(state, \", \", c(2019, 2021)))\n",
    "  \n",
    "  # export the combined stat sheet\n",
    "  ggsave(paste0(state, \"_state_level_tx_plots.pdf\"), \n",
    "         plot1 + plot2 + tbl + plot_layout(design = \"AAAAC\\nAAAAC\\nBBBBB\\nBBBBB\"),\n",
    "         device = \"pdf\", width = 10, height = 5.6, unit = \"in\")\n",
    "}"
   ]
  },
  {
   "cell_type": "code",
   "execution_count": null,
   "id": "867a5140",
   "metadata": {
    "vscode": {
     "languageId": "r"
    }
   },
   "outputs": [],
   "source": [
    "# stitch all the PDFs together into one master deck\n",
    "pdftools::pdf_combine(list.files(pattern = \"*_state_level_tx_plots.pdf\"), output = \"../fig1-state_level_tx_plots.pdf\")"
   ]
  }
 ],
 "metadata": {
  "kernelspec": {
   "display_name": "R",
   "language": "R",
   "name": "ir"
  },
  "language_info": {
   "codemirror_mode": "r",
   "file_extension": ".r",
   "mimetype": "text/x-r-source",
   "name": "R",
   "pygments_lexer": "r",
   "version": "4.0.4"
  }
 },
 "nbformat": 4,
 "nbformat_minor": 5
}
